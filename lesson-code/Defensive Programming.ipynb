{
 "cells": [
  {
   "cell_type": "markdown",
   "id": "70997b90",
   "metadata": {},
   "source": [
    "# Defensive Programming"
   ]
  },
  {
   "cell_type": "markdown",
   "id": "4c9c9963",
   "metadata": {},
   "source": [
    "---\n",
    "\n",
    "reference curriculum: [Programming with Python](https://swcarpentry.github.io/python-novice-inflammation/)"
   ]
  },
  {
   "cell_type": "markdown",
   "id": "a66169dc",
   "metadata": {},
   "source": [
    "---\n",
    "\n",
    "Duration:\n",
    "- 90 mins\n",
    "\n",
    "Questions:\n",
    "- how to write good python code to prevent errors and help debugging?\n",
    "    \n",
    "objective:\n",
    "- understand assertion and unit tests\n",
    "- write elegant code\n",
    "\n",
    "---"
   ]
  },
  {
   "cell_type": "markdown",
   "id": "7e42d884-beb8-4b31-8874-7b54b630eab3",
   "metadata": {},
   "source": [
    "## reflect on the errors we have encountered"
   ]
  },
  {
   "cell_type": "markdown",
   "id": "f5b0114c-5a6a-4dc5-835c-ce07c1bd5192",
   "metadata": {},
   "source": [
    "- to name them"
   ]
  },
  {
   "cell_type": "markdown",
   "id": "980cfeaa",
   "metadata": {},
   "source": [
    "## Errors and Exceptions"
   ]
  },
  {
   "cell_type": "markdown",
   "id": "64f7d232",
   "metadata": {},
   "source": [
    "### syntax error, runtime error, logic error"
   ]
  },
  {
   "cell_type": "code",
   "execution_count": 1,
   "id": "2937e90a",
   "metadata": {},
   "outputs": [
    {
     "ename": "SyntaxError",
     "evalue": "invalid syntax (845857748.py, line 2)",
     "output_type": "error",
     "traceback": [
      "\u001b[0;36m  Input \u001b[0;32mIn [1]\u001b[0;36m\u001b[0m\n\u001b[0;31m    def sqaure(number)\u001b[0m\n\u001b[0m                      ^\u001b[0m\n\u001b[0;31mSyntaxError\u001b[0m\u001b[0;31m:\u001b[0m invalid syntax\n"
     ]
    }
   ],
   "source": [
    "# syntax error\n",
    "def sqaure(number)\n",
    "    return number ** 2"
   ]
  },
  {
   "cell_type": "code",
   "execution_count": 2,
   "id": "73a9f03b",
   "metadata": {},
   "outputs": [
    {
     "ename": "IndentationError",
     "evalue": "expected an indented block (989573036.py, line 3)",
     "output_type": "error",
     "traceback": [
      "\u001b[0;36m  Input \u001b[0;32mIn [2]\u001b[0;36m\u001b[0m\n\u001b[0;31m    print(i)\u001b[0m\n\u001b[0m    ^\u001b[0m\n\u001b[0;31mIndentationError\u001b[0m\u001b[0;31m:\u001b[0m expected an indented block\n"
     ]
    }
   ],
   "source": [
    "# syntax error\n",
    "for i in [1,2,3,4,5]:\n",
    "print(i)"
   ]
  },
  {
   "cell_type": "code",
   "execution_count": 3,
   "id": "2ca0b789",
   "metadata": {},
   "outputs": [
    {
     "ename": "SyntaxError",
     "evalue": "invalid syntax (2708724545.py, line 4)",
     "output_type": "error",
     "traceback": [
      "\u001b[0;36m  Input \u001b[0;32mIn [3]\u001b[0;36m\u001b[0m\n\u001b[0;31m    print(s)\u001b[0m\n\u001b[0m    ^\u001b[0m\n\u001b[0;31mSyntaxError\u001b[0m\u001b[0;31m:\u001b[0m invalid syntax\n"
     ]
    }
   ],
   "source": [
    "# syntax error\n",
    "for i in [1,2,3,4,5]:\n",
    "    s = \"{}'s square is {}\".format(i, i**2\n",
    "    print(s)"
   ]
  },
  {
   "cell_type": "code",
   "execution_count": 4,
   "id": "66eefd14",
   "metadata": {},
   "outputs": [
    {
     "ename": "SyntaxError",
     "evalue": "invalid syntax (1656132184.py, line 2)",
     "output_type": "error",
     "traceback": [
      "\u001b[0;36m  Input \u001b[0;32mIn [4]\u001b[0;36m\u001b[0m\n\u001b[0;31m    for i in [1,2,3,4,5:\u001b[0m\n\u001b[0m                       ^\u001b[0m\n\u001b[0;31mSyntaxError\u001b[0m\u001b[0;31m:\u001b[0m invalid syntax\n"
     ]
    }
   ],
   "source": [
    "# syntax error\n",
    "for i in [1,2,3,4,5:\n",
    "    s = \"{}'s square is {}\".format(i, i**2)\n",
    "    print(s)"
   ]
  },
  {
   "cell_type": "code",
   "execution_count": 5,
   "id": "4810b5a5",
   "metadata": {},
   "outputs": [
    {
     "ename": "SyntaxError",
     "evalue": "invalid syntax (3782060880.py, line 2)",
     "output_type": "error",
     "traceback": [
      "\u001b[0;36m  Input \u001b[0;32mIn [5]\u001b[0;36m\u001b[0m\n\u001b[0;31m    for i [1,2,3,4,5]:\u001b[0m\n\u001b[0m                     ^\u001b[0m\n\u001b[0;31mSyntaxError\u001b[0m\u001b[0;31m:\u001b[0m invalid syntax\n"
     ]
    }
   ],
   "source": [
    "# syntax error\n",
    "for i [1,2,3,4,5]:\n",
    "    s = \"{}'s square is {}\".format(i, i**2)\n",
    "    print(s)"
   ]
  },
  {
   "cell_type": "code",
   "execution_count": 6,
   "id": "e77c3326",
   "metadata": {},
   "outputs": [],
   "source": [
    "# runtime error\n",
    "def square(number):\n",
    "    value = number ** 2\n",
    "    return valu "
   ]
  },
  {
   "cell_type": "code",
   "execution_count": 7,
   "id": "6e8063b3",
   "metadata": {},
   "outputs": [
    {
     "ename": "NameError",
     "evalue": "name 'valu' is not defined",
     "output_type": "error",
     "traceback": [
      "\u001b[0;31m---------------------------------------------------------------------------\u001b[0m",
      "\u001b[0;31mNameError\u001b[0m                                 Traceback (most recent call last)",
      "Input \u001b[0;32mIn [7]\u001b[0m, in \u001b[0;36m<cell line: 2>\u001b[0;34m()\u001b[0m\n\u001b[1;32m      1\u001b[0m \u001b[38;5;66;03m# runtime error\u001b[39;00m\n\u001b[0;32m----> 2\u001b[0m \u001b[43msquare\u001b[49m\u001b[43m(\u001b[49m\u001b[38;5;241;43m3\u001b[39;49m\u001b[43m)\u001b[49m\n",
      "Input \u001b[0;32mIn [6]\u001b[0m, in \u001b[0;36msquare\u001b[0;34m(number)\u001b[0m\n\u001b[1;32m      2\u001b[0m \u001b[38;5;28;01mdef\u001b[39;00m \u001b[38;5;21msquare\u001b[39m(number):\n\u001b[1;32m      3\u001b[0m     value \u001b[38;5;241m=\u001b[39m number \u001b[38;5;241m*\u001b[39m\u001b[38;5;241m*\u001b[39m \u001b[38;5;241m2\u001b[39m\n\u001b[0;32m----> 4\u001b[0m     \u001b[38;5;28;01mreturn\u001b[39;00m \u001b[43mvalu\u001b[49m\n",
      "\u001b[0;31mNameError\u001b[0m: name 'valu' is not defined"
     ]
    }
   ],
   "source": [
    "# runtime error\n",
    "square(3)"
   ]
  },
  {
   "cell_type": "code",
   "execution_count": 8,
   "id": "129ad6c5",
   "metadata": {},
   "outputs": [],
   "source": [
    "# runtime error\n",
    "def get_ice_cream(index):\n",
    "    menu = [\n",
    "        'vanilla',\n",
    "        'cherry',\n",
    "        'coffee',\n",
    "        'choclate',\n",
    "        'strawberry'\n",
    "    ]\n",
    "    return menu[index]"
   ]
  },
  {
   "cell_type": "code",
   "execution_count": 9,
   "id": "4974eaf5",
   "metadata": {},
   "outputs": [
    {
     "data": {
      "text/plain": [
       "'choclate'"
      ]
     },
     "execution_count": 9,
     "metadata": {},
     "output_type": "execute_result"
    }
   ],
   "source": [
    "# no runtime error when giving the right input\n",
    "get_ice_cream(3)"
   ]
  },
  {
   "cell_type": "code",
   "execution_count": 10,
   "id": "f2879734",
   "metadata": {},
   "outputs": [
    {
     "ename": "IndexError",
     "evalue": "list index out of range",
     "output_type": "error",
     "traceback": [
      "\u001b[0;31m---------------------------------------------------------------------------\u001b[0m",
      "\u001b[0;31mIndexError\u001b[0m                                Traceback (most recent call last)",
      "Input \u001b[0;32mIn [10]\u001b[0m, in \u001b[0;36m<cell line: 2>\u001b[0;34m()\u001b[0m\n\u001b[1;32m      1\u001b[0m \u001b[38;5;66;03m# runtime error\u001b[39;00m\n\u001b[0;32m----> 2\u001b[0m \u001b[43mget_ice_cream\u001b[49m\u001b[43m(\u001b[49m\u001b[38;5;241;43m7\u001b[39;49m\u001b[43m)\u001b[49m\n",
      "Input \u001b[0;32mIn [8]\u001b[0m, in \u001b[0;36mget_ice_cream\u001b[0;34m(index)\u001b[0m\n\u001b[1;32m      2\u001b[0m \u001b[38;5;28;01mdef\u001b[39;00m \u001b[38;5;21mget_ice_cream\u001b[39m(index):\n\u001b[1;32m      3\u001b[0m     menu \u001b[38;5;241m=\u001b[39m [\n\u001b[1;32m      4\u001b[0m         \u001b[38;5;124m'\u001b[39m\u001b[38;5;124mvanilla\u001b[39m\u001b[38;5;124m'\u001b[39m,\n\u001b[1;32m      5\u001b[0m         \u001b[38;5;124m'\u001b[39m\u001b[38;5;124mcherry\u001b[39m\u001b[38;5;124m'\u001b[39m,\n\u001b[0;32m   (...)\u001b[0m\n\u001b[1;32m      8\u001b[0m         \u001b[38;5;124m'\u001b[39m\u001b[38;5;124mstrawberry\u001b[39m\u001b[38;5;124m'\u001b[39m\n\u001b[1;32m      9\u001b[0m     ]\n\u001b[0;32m---> 10\u001b[0m     \u001b[38;5;28;01mreturn\u001b[39;00m \u001b[43mmenu\u001b[49m\u001b[43m[\u001b[49m\u001b[43mindex\u001b[49m\u001b[43m]\u001b[49m\n",
      "\u001b[0;31mIndexError\u001b[0m: list index out of range"
     ]
    }
   ],
   "source": [
    "# runtime error\n",
    "get_ice_cream(7)"
   ]
  },
  {
   "cell_type": "code",
   "execution_count": 11,
   "id": "1539502b",
   "metadata": {},
   "outputs": [],
   "source": [
    "# logic error\n",
    "def square(number):\n",
    "    return number + number"
   ]
  },
  {
   "cell_type": "code",
   "execution_count": 12,
   "id": "b5ef2a5b",
   "metadata": {},
   "outputs": [
    {
     "data": {
      "text/plain": [
       "4"
      ]
     },
     "execution_count": 12,
     "metadata": {},
     "output_type": "execute_result"
    }
   ],
   "source": [
    "# logic error but the result is correct\n",
    "square(2)"
   ]
  },
  {
   "cell_type": "code",
   "execution_count": 13,
   "id": "7e7c3713",
   "metadata": {},
   "outputs": [
    {
     "data": {
      "text/plain": [
       "6"
      ]
     },
     "execution_count": 13,
     "metadata": {},
     "output_type": "execute_result"
    }
   ],
   "source": [
    "# logic error\n",
    "square(3)"
   ]
  },
  {
   "cell_type": "code",
   "execution_count": 14,
   "id": "3acf6068",
   "metadata": {},
   "outputs": [],
   "source": [
    "# logic error but the result is correct\n",
    "assert(square(2) == 4)"
   ]
  },
  {
   "cell_type": "code",
   "execution_count": 15,
   "id": "71023639",
   "metadata": {},
   "outputs": [
    {
     "ename": "AssertionError",
     "evalue": "",
     "output_type": "error",
     "traceback": [
      "\u001b[0;31m---------------------------------------------------------------------------\u001b[0m",
      "\u001b[0;31mAssertionError\u001b[0m                            Traceback (most recent call last)",
      "Input \u001b[0;32mIn [15]\u001b[0m, in \u001b[0;36m<cell line: 2>\u001b[0;34m()\u001b[0m\n\u001b[1;32m      1\u001b[0m \u001b[38;5;66;03m# logic error\u001b[39;00m\n\u001b[0;32m----> 2\u001b[0m \u001b[38;5;28;01massert\u001b[39;00m(square(\u001b[38;5;241m3\u001b[39m) \u001b[38;5;241m==\u001b[39m \u001b[38;5;241m9\u001b[39m)\n",
      "\u001b[0;31mAssertionError\u001b[0m: "
     ]
    }
   ],
   "source": [
    "# logic error\n",
    "assert(square(3) == 9)"
   ]
  },
  {
   "cell_type": "code",
   "execution_count": 16,
   "id": "c2592258",
   "metadata": {},
   "outputs": [
    {
     "ename": "AssertionError",
     "evalue": "",
     "output_type": "error",
     "traceback": [
      "\u001b[0;31m---------------------------------------------------------------------------\u001b[0m",
      "\u001b[0;31mAssertionError\u001b[0m                            Traceback (most recent call last)",
      "Input \u001b[0;32mIn [16]\u001b[0m, in \u001b[0;36m<cell line: 2>\u001b[0;34m()\u001b[0m\n\u001b[1;32m      1\u001b[0m \u001b[38;5;66;03m# logic error\u001b[39;00m\n\u001b[0;32m----> 2\u001b[0m \u001b[38;5;28;01massert\u001b[39;00m(square(\u001b[38;5;241m4\u001b[39m) \u001b[38;5;241m==\u001b[39m \u001b[38;5;241m16\u001b[39m)\n",
      "\u001b[0;31mAssertionError\u001b[0m: "
     ]
    }
   ],
   "source": [
    "# logic error\n",
    "assert(square(4) == 16)"
   ]
  },
  {
   "cell_type": "markdown",
   "id": "772c038b",
   "metadata": {},
   "source": [
    "## Defensive Programming"
   ]
  },
  {
   "cell_type": "markdown",
   "id": "9874d839",
   "metadata": {},
   "source": [
    "### regulate inputs\n",
    "\n",
    "> `assert condition(input)`"
   ]
  },
  {
   "cell_type": "code",
   "execution_count": 17,
   "id": "f995f7d1",
   "metadata": {},
   "outputs": [],
   "source": [
    "def square(number):\n",
    "    return number ** 2"
   ]
  },
  {
   "cell_type": "code",
   "execution_count": 18,
   "id": "980276b3",
   "metadata": {},
   "outputs": [
    {
     "ename": "TypeError",
     "evalue": "unsupported operand type(s) for ** or pow(): 'str' and 'int'",
     "output_type": "error",
     "traceback": [
      "\u001b[0;31m---------------------------------------------------------------------------\u001b[0m",
      "\u001b[0;31mTypeError\u001b[0m                                 Traceback (most recent call last)",
      "Input \u001b[0;32mIn [18]\u001b[0m, in \u001b[0;36m<cell line: 1>\u001b[0;34m()\u001b[0m\n\u001b[0;32m----> 1\u001b[0m \u001b[43msquare\u001b[49m\u001b[43m(\u001b[49m\u001b[38;5;124;43m'\u001b[39;49m\u001b[38;5;124;43ma\u001b[39;49m\u001b[38;5;124;43m'\u001b[39;49m\u001b[43m)\u001b[49m\n",
      "Input \u001b[0;32mIn [17]\u001b[0m, in \u001b[0;36msquare\u001b[0;34m(number)\u001b[0m\n\u001b[1;32m      1\u001b[0m \u001b[38;5;28;01mdef\u001b[39;00m \u001b[38;5;21msquare\u001b[39m(number):\n\u001b[0;32m----> 2\u001b[0m     \u001b[38;5;28;01mreturn\u001b[39;00m \u001b[43mnumber\u001b[49m\u001b[43m \u001b[49m\u001b[38;5;241;43m*\u001b[39;49m\u001b[38;5;241;43m*\u001b[39;49m\u001b[43m \u001b[49m\u001b[38;5;241;43m2\u001b[39;49m\n",
      "\u001b[0;31mTypeError\u001b[0m: unsupported operand type(s) for ** or pow(): 'str' and 'int'"
     ]
    }
   ],
   "source": [
    "square('a')"
   ]
  },
  {
   "cell_type": "code",
   "execution_count": 19,
   "id": "91383dc4",
   "metadata": {},
   "outputs": [],
   "source": [
    "def square(number):\n",
    "    assert isinstance(number, float) or \\\n",
    "           isinstance(number, int) or \\\n",
    "           isinstance(number, complex), 'input is not int/float/complex' \n",
    "    return number ** 2"
   ]
  },
  {
   "cell_type": "code",
   "execution_count": 20,
   "id": "3db19bd6",
   "metadata": {},
   "outputs": [
    {
     "ename": "AssertionError",
     "evalue": "input is not int/float/complex",
     "output_type": "error",
     "traceback": [
      "\u001b[0;31m---------------------------------------------------------------------------\u001b[0m",
      "\u001b[0;31mAssertionError\u001b[0m                            Traceback (most recent call last)",
      "Input \u001b[0;32mIn [20]\u001b[0m, in \u001b[0;36m<cell line: 1>\u001b[0;34m()\u001b[0m\n\u001b[0;32m----> 1\u001b[0m \u001b[43msquare\u001b[49m\u001b[43m(\u001b[49m\u001b[38;5;124;43m'\u001b[39;49m\u001b[38;5;124;43ma\u001b[39;49m\u001b[38;5;124;43m'\u001b[39;49m\u001b[43m)\u001b[49m\n",
      "Input \u001b[0;32mIn [19]\u001b[0m, in \u001b[0;36msquare\u001b[0;34m(number)\u001b[0m\n\u001b[1;32m      1\u001b[0m \u001b[38;5;28;01mdef\u001b[39;00m \u001b[38;5;21msquare\u001b[39m(number):\n\u001b[0;32m----> 2\u001b[0m     \u001b[38;5;28;01massert\u001b[39;00m \u001b[38;5;28misinstance\u001b[39m(number, \u001b[38;5;28mfloat\u001b[39m) \u001b[38;5;129;01mor\u001b[39;00m \\\n\u001b[1;32m      3\u001b[0m            \u001b[38;5;28misinstance\u001b[39m(number, \u001b[38;5;28mint\u001b[39m) \u001b[38;5;129;01mor\u001b[39;00m \\\n\u001b[1;32m      4\u001b[0m            \u001b[38;5;28misinstance\u001b[39m(number, \u001b[38;5;28mcomplex\u001b[39m), \u001b[38;5;124m'\u001b[39m\u001b[38;5;124minput is not int/float/complex\u001b[39m\u001b[38;5;124m'\u001b[39m \n\u001b[1;32m      5\u001b[0m     \u001b[38;5;28;01mreturn\u001b[39;00m number \u001b[38;5;241m*\u001b[39m\u001b[38;5;241m*\u001b[39m \u001b[38;5;241m2\u001b[39m\n",
      "\u001b[0;31mAssertionError\u001b[0m: input is not int/float/complex"
     ]
    }
   ],
   "source": [
    "square('a')"
   ]
  },
  {
   "cell_type": "code",
   "execution_count": 21,
   "id": "c5bb1ee1",
   "metadata": {},
   "outputs": [],
   "source": [
    "def get_ice_cream(index):\n",
    "    assert index>=0 and index < 5, 'index not in [0,4]'\n",
    "    menu = [\n",
    "        'vanilla',\n",
    "        'cherry',\n",
    "        'coffee',\n",
    "        'choclate',\n",
    "        'strawberry'\n",
    "    ]\n",
    "    return menu[index]"
   ]
  },
  {
   "cell_type": "code",
   "execution_count": 22,
   "id": "3ef271ce",
   "metadata": {},
   "outputs": [
    {
     "data": {
      "text/plain": [
       "'choclate'"
      ]
     },
     "execution_count": 22,
     "metadata": {},
     "output_type": "execute_result"
    }
   ],
   "source": [
    "get_ice_cream(3)"
   ]
  },
  {
   "cell_type": "code",
   "execution_count": 23,
   "id": "42adbae6",
   "metadata": {},
   "outputs": [
    {
     "ename": "AssertionError",
     "evalue": "index not in [0,4]",
     "output_type": "error",
     "traceback": [
      "\u001b[0;31m---------------------------------------------------------------------------\u001b[0m",
      "\u001b[0;31mAssertionError\u001b[0m                            Traceback (most recent call last)",
      "Input \u001b[0;32mIn [23]\u001b[0m, in \u001b[0;36m<cell line: 1>\u001b[0;34m()\u001b[0m\n\u001b[0;32m----> 1\u001b[0m \u001b[43mget_ice_cream\u001b[49m\u001b[43m(\u001b[49m\u001b[38;5;241;43m7\u001b[39;49m\u001b[43m)\u001b[49m\n",
      "Input \u001b[0;32mIn [21]\u001b[0m, in \u001b[0;36mget_ice_cream\u001b[0;34m(index)\u001b[0m\n\u001b[1;32m      1\u001b[0m \u001b[38;5;28;01mdef\u001b[39;00m \u001b[38;5;21mget_ice_cream\u001b[39m(index):\n\u001b[0;32m----> 2\u001b[0m     \u001b[38;5;28;01massert\u001b[39;00m index\u001b[38;5;241m>\u001b[39m\u001b[38;5;241m=\u001b[39m\u001b[38;5;241m0\u001b[39m \u001b[38;5;129;01mand\u001b[39;00m index \u001b[38;5;241m<\u001b[39m \u001b[38;5;241m5\u001b[39m, \u001b[38;5;124m'\u001b[39m\u001b[38;5;124mindex not in [0,4]\u001b[39m\u001b[38;5;124m'\u001b[39m\n\u001b[1;32m      3\u001b[0m     menu \u001b[38;5;241m=\u001b[39m [\n\u001b[1;32m      4\u001b[0m         \u001b[38;5;124m'\u001b[39m\u001b[38;5;124mvanilla\u001b[39m\u001b[38;5;124m'\u001b[39m,\n\u001b[1;32m      5\u001b[0m         \u001b[38;5;124m'\u001b[39m\u001b[38;5;124mcherry\u001b[39m\u001b[38;5;124m'\u001b[39m,\n\u001b[0;32m   (...)\u001b[0m\n\u001b[1;32m      8\u001b[0m         \u001b[38;5;124m'\u001b[39m\u001b[38;5;124mstrawberry\u001b[39m\u001b[38;5;124m'\u001b[39m\n\u001b[1;32m      9\u001b[0m     ]\n\u001b[1;32m     10\u001b[0m     \u001b[38;5;28;01mreturn\u001b[39;00m menu[index]\n",
      "\u001b[0;31mAssertionError\u001b[0m: index not in [0,4]"
     ]
    }
   ],
   "source": [
    "get_ice_cream(7)"
   ]
  },
  {
   "cell_type": "markdown",
   "id": "9b05d0cf",
   "metadata": {},
   "source": [
    "### using tests\n",
    "\n",
    "> assert function(input) == result"
   ]
  },
  {
   "cell_type": "code",
   "execution_count": 24,
   "id": "69c474a9",
   "metadata": {},
   "outputs": [],
   "source": [
    "def square(number):\n",
    "    return number + number"
   ]
  },
  {
   "cell_type": "code",
   "execution_count": 25,
   "id": "bbdbdcf7",
   "metadata": {},
   "outputs": [],
   "source": [
    "assert(square(2) == 4)"
   ]
  },
  {
   "cell_type": "code",
   "execution_count": 26,
   "id": "e74e8922",
   "metadata": {},
   "outputs": [
    {
     "ename": "AssertionError",
     "evalue": "",
     "output_type": "error",
     "traceback": [
      "\u001b[0;31m---------------------------------------------------------------------------\u001b[0m",
      "\u001b[0;31mAssertionError\u001b[0m                            Traceback (most recent call last)",
      "Input \u001b[0;32mIn [26]\u001b[0m, in \u001b[0;36m<cell line: 1>\u001b[0;34m()\u001b[0m\n\u001b[0;32m----> 1\u001b[0m \u001b[38;5;28;01massert\u001b[39;00m(square(\u001b[38;5;241m3\u001b[39m) \u001b[38;5;241m==\u001b[39m \u001b[38;5;241m9\u001b[39m)\n",
      "\u001b[0;31mAssertionError\u001b[0m: "
     ]
    }
   ],
   "source": [
    "assert(square(3) == 9)"
   ]
  },
  {
   "cell_type": "code",
   "execution_count": 27,
   "id": "0636ad26",
   "metadata": {},
   "outputs": [
    {
     "ename": "AssertionError",
     "evalue": "",
     "output_type": "error",
     "traceback": [
      "\u001b[0;31m---------------------------------------------------------------------------\u001b[0m",
      "\u001b[0;31mAssertionError\u001b[0m                            Traceback (most recent call last)",
      "Input \u001b[0;32mIn [27]\u001b[0m, in \u001b[0;36m<cell line: 1>\u001b[0;34m()\u001b[0m\n\u001b[0;32m----> 1\u001b[0m \u001b[38;5;28;01massert\u001b[39;00m(square(\u001b[38;5;241m4\u001b[39m) \u001b[38;5;241m==\u001b[39m \u001b[38;5;241m16\u001b[39m)\n",
      "\u001b[0;31mAssertionError\u001b[0m: "
     ]
    }
   ],
   "source": [
    "assert(square(4) == 16)"
   ]
  },
  {
   "cell_type": "code",
   "execution_count": null,
   "id": "aa385317",
   "metadata": {},
   "outputs": [],
   "source": []
  },
  {
   "cell_type": "code",
   "execution_count": null,
   "id": "15c8f412",
   "metadata": {},
   "outputs": [],
   "source": []
  },
  {
   "cell_type": "code",
   "execution_count": null,
   "id": "4cfee48a",
   "metadata": {},
   "outputs": [],
   "source": []
  },
  {
   "cell_type": "code",
   "execution_count": null,
   "id": "dadb6f3d",
   "metadata": {},
   "outputs": [],
   "source": []
  }
 ],
 "metadata": {
  "kernelspec": {
   "display_name": "Python 3 (ipykernel)",
   "language": "python",
   "name": "python3"
  },
  "language_info": {
   "codemirror_mode": {
    "name": "ipython",
    "version": 3
   },
   "file_extension": ".py",
   "mimetype": "text/x-python",
   "name": "python",
   "nbconvert_exporter": "python",
   "pygments_lexer": "ipython3",
   "version": "3.9.12"
  }
 },
 "nbformat": 4,
 "nbformat_minor": 5
}

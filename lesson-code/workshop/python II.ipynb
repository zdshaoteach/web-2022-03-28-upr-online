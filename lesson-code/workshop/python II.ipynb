{
 "cells": [
  {
   "cell_type": "markdown",
   "id": "0894d5ce",
   "metadata": {},
   "source": [
    "90 mins\n",
    "\n",
    "yesterday\n",
    "\n",
    "- define variables, basic data types, built-in functions\n",
    "- `import`, list, reading files, plot, "
   ]
  },
  {
   "cell_type": "markdown",
   "id": "9f7298fe",
   "metadata": {},
   "source": [
    "- repeat with for loop\n",
    "- control conditions\n",
    "- function"
   ]
  },
  {
   "cell_type": "code",
   "execution_count": 1,
   "id": "53d916ea",
   "metadata": {},
   "outputs": [
    {
     "name": "stdout",
     "output_type": "stream",
     "text": [
      "gapminder_all.csv          gapminder_gdp_asia.csv\r\n",
      "gapminder_gdp_africa.csv   gapminder_gdp_europe.csv\r\n",
      "gapminder_gdp_americas.csv gapminder_gdp_oceania.csv\r\n"
     ]
    }
   ],
   "source": [
    "!ls data"
   ]
  },
  {
   "cell_type": "code",
   "execution_count": 2,
   "id": "ab61d8ec",
   "metadata": {},
   "outputs": [],
   "source": [
    "import glob"
   ]
  },
  {
   "cell_type": "code",
   "execution_count": 3,
   "id": "72f2952c",
   "metadata": {},
   "outputs": [
    {
     "name": "stdout",
     "output_type": "stream",
     "text": [
      "Help on module glob:\n",
      "\n",
      "NAME\n",
      "    glob - Filename globbing utility.\n",
      "\n",
      "MODULE REFERENCE\n",
      "    https://docs.python.org/3.9/library/glob\n",
      "    \n",
      "    The following documentation is automatically generated from the Python\n",
      "    source files.  It may be incomplete, incorrect or include features that\n",
      "    are considered implementation detail and may vary between Python\n",
      "    implementations.  When in doubt, consult the module reference at the\n",
      "    location listed above.\n",
      "\n",
      "FUNCTIONS\n",
      "    escape(pathname)\n",
      "        Escape all special characters.\n",
      "    \n",
      "    glob(pathname, *, recursive=False)\n",
      "        Return a list of paths matching a pathname pattern.\n",
      "        \n",
      "        The pattern may contain simple shell-style wildcards a la\n",
      "        fnmatch. However, unlike fnmatch, filenames starting with a\n",
      "        dot are special cases that are not matched by '*' and '?'\n",
      "        patterns.\n",
      "        \n",
      "        If recursive is true, the pattern '**' will match any files and\n",
      "        zero or more directories and subdirectories.\n",
      "    \n",
      "    iglob(pathname, *, recursive=False)\n",
      "        Return an iterator which yields the paths matching a pathname pattern.\n",
      "        \n",
      "        The pattern may contain simple shell-style wildcards a la\n",
      "        fnmatch. However, unlike fnmatch, filenames starting with a\n",
      "        dot are special cases that are not matched by '*' and '?'\n",
      "        patterns.\n",
      "        \n",
      "        If recursive is true, the pattern '**' will match any files and\n",
      "        zero or more directories and subdirectories.\n",
      "\n",
      "DATA\n",
      "    __all__ = ['glob', 'iglob', 'escape']\n",
      "\n",
      "FILE\n",
      "    /Users/doris/mambaforge/lib/python3.9/glob.py\n",
      "\n",
      "\n"
     ]
    }
   ],
   "source": [
    "help(glob)"
   ]
  },
  {
   "cell_type": "code",
   "execution_count": 4,
   "id": "afbd94c3",
   "metadata": {},
   "outputs": [
    {
     "name": "stdout",
     "output_type": "stream",
     "text": [
      "Help on function glob in module glob:\n",
      "\n",
      "glob(pathname, *, recursive=False)\n",
      "    Return a list of paths matching a pathname pattern.\n",
      "    \n",
      "    The pattern may contain simple shell-style wildcards a la\n",
      "    fnmatch. However, unlike fnmatch, filenames starting with a\n",
      "    dot are special cases that are not matched by '*' and '?'\n",
      "    patterns.\n",
      "    \n",
      "    If recursive is true, the pattern '**' will match any files and\n",
      "    zero or more directories and subdirectories.\n",
      "\n"
     ]
    }
   ],
   "source": [
    "help(glob.glob)"
   ]
  },
  {
   "cell_type": "code",
   "execution_count": 6,
   "id": "bbe86b64",
   "metadata": {},
   "outputs": [
    {
     "data": {
      "text/plain": [
       "['data/dummy.txt',\n",
       " 'data/gapminder_gdp_americas.csv',\n",
       " 'data/gapminder_gdp_europe.csv',\n",
       " 'data/gapminder_all.csv',\n",
       " 'data/gapminder_gdp_oceania.csv',\n",
       " 'data/gapminder_gdp_africa.csv',\n",
       " 'data/gapminder_gdp_asia.csv']"
      ]
     },
     "execution_count": 6,
     "metadata": {},
     "output_type": "execute_result"
    }
   ],
   "source": [
    "glob.glob('data/*')"
   ]
  },
  {
   "cell_type": "code",
   "execution_count": 7,
   "id": "7d08176d",
   "metadata": {},
   "outputs": [],
   "source": [
    "file_list = glob.glob('data/*.csv')"
   ]
  },
  {
   "cell_type": "code",
   "execution_count": 8,
   "id": "07ae6f5f",
   "metadata": {},
   "outputs": [
    {
     "data": {
      "text/plain": [
       "6"
      ]
     },
     "execution_count": 8,
     "metadata": {},
     "output_type": "execute_result"
    }
   ],
   "source": [
    "len(file_list)"
   ]
  },
  {
   "cell_type": "code",
   "execution_count": 9,
   "id": "c7bb6aad",
   "metadata": {},
   "outputs": [
    {
     "data": {
      "text/plain": [
       "['data/gapminder_gdp_americas.csv',\n",
       " 'data/gapminder_gdp_europe.csv',\n",
       " 'data/gapminder_all.csv',\n",
       " 'data/gapminder_gdp_oceania.csv',\n",
       " 'data/gapminder_gdp_africa.csv',\n",
       " 'data/gapminder_gdp_asia.csv']"
      ]
     },
     "execution_count": 9,
     "metadata": {},
     "output_type": "execute_result"
    }
   ],
   "source": [
    "file_list"
   ]
  },
  {
   "cell_type": "code",
   "execution_count": 11,
   "id": "7df9d5fe",
   "metadata": {},
   "outputs": [
    {
     "name": "stdout",
     "output_type": "stream",
     "text": [
      "data/gapminder_gdp_americas.csv\n",
      "data/gapminder_gdp_europe.csv\n",
      "data/gapminder_all.csv\n",
      "data/gapminder_gdp_oceania.csv\n",
      "data/gapminder_gdp_africa.csv\n",
      "data/gapminder_gdp_asia.csv\n"
     ]
    }
   ],
   "source": [
    "#for item in iterative_structure:\n",
    "#    print(item)\n",
    "for file_name in file_list:\n",
    "    print(file_name)"
   ]
  },
  {
   "cell_type": "code",
   "execution_count": 13,
   "id": "1e18f2cc",
   "metadata": {},
   "outputs": [
    {
     "name": "stdout",
     "output_type": "stream",
     "text": [
      "data/gapminder_gdp_americas.csv 14\n",
      "data/gapminder_gdp_europe.csv 13\n",
      "data/gapminder_all.csv 38\n",
      "data/gapminder_gdp_oceania.csv 13\n",
      "data/gapminder_gdp_africa.csv 13\n",
      "data/gapminder_gdp_asia.csv 13\n"
     ]
    }
   ],
   "source": [
    "import pandas as pd\n",
    "for file_name in file_list:\n",
    "    data = pd.read_csv(file_name)\n",
    "    columns = list(data)\n",
    "    number_of_cols = len(columns)\n",
    "    print(file_name, number_of_cols)"
   ]
  },
  {
   "cell_type": "code",
   "execution_count": 14,
   "id": "b931805b",
   "metadata": {},
   "outputs": [
    {
     "data": {
      "text/plain": [
       "13"
      ]
     },
     "execution_count": 14,
     "metadata": {},
     "output_type": "execute_result"
    }
   ],
   "source": [
    "number_of_cols"
   ]
  },
  {
   "cell_type": "code",
   "execution_count": 15,
   "id": "d7a3c2f5",
   "metadata": {},
   "outputs": [],
   "source": [
    "# if conditionA:\n",
    "#     do something A\n",
    "#     \n",
    "# elif conditionC:\n",
    "#     do something C\n",
    "#     \n",
    "# else:\n",
    "#     do something B"
   ]
  },
  {
   "cell_type": "code",
   "execution_count": 18,
   "id": "96714f52",
   "metadata": {},
   "outputs": [
    {
     "name": "stdout",
     "output_type": "stream",
     "text": [
      "data/gapminder_gdp_americas.csv 14\n",
      "data/gapminder_gdp_europe.csv 30\n",
      "data/gapminder_all.csv\n"
     ]
    }
   ],
   "source": [
    "for file_name in file_list:\n",
    "    data = pd.read_csv(file_name)\n",
    "    if 'americas' in file_name:\n",
    "        print(file_name, len(list(data)))\n",
    "    elif 'europe' in file_name:\n",
    "        print(file_name, len(data.index))\n",
    "    elif 'all' in file_name:\n",
    "        print(file_name)\n",
    "    else:\n",
    "        #print('skip')\n",
    "        pass"
   ]
  },
  {
   "cell_type": "code",
   "execution_count": null,
   "id": "002c2da3",
   "metadata": {},
   "outputs": [],
   "source": [
    "# def function_name(arg1, arg2, ...):\n",
    "#     do something \n",
    "#     return value1, value2, value3, ..."
   ]
  },
  {
   "cell_type": "code",
   "execution_count": 19,
   "id": "c8fa5fd6",
   "metadata": {},
   "outputs": [
    {
     "name": "stdout",
     "output_type": "stream",
     "text": [
      "1 3\n"
     ]
    }
   ],
   "source": [
    "x, y, z = 1, 3, 18\n",
    "print(x, y, z)"
   ]
  },
  {
   "cell_type": "code",
   "execution_count": 20,
   "id": "8d7b1dfc",
   "metadata": {},
   "outputs": [],
   "source": [
    "# define a function\n",
    "def process(x):\n",
    "    square = x * x\n",
    "    cubic = square * x\n",
    "    return square, cubic"
   ]
  },
  {
   "cell_type": "code",
   "execution_count": 21,
   "id": "de1d95fe",
   "metadata": {},
   "outputs": [
    {
     "data": {
      "text/plain": [
       "(4, 8)"
      ]
     },
     "execution_count": 21,
     "metadata": {},
     "output_type": "execute_result"
    }
   ],
   "source": [
    "process(2)"
   ]
  },
  {
   "cell_type": "code",
   "execution_count": 22,
   "id": "f3517497",
   "metadata": {},
   "outputs": [
    {
     "name": "stdout",
     "output_type": "stream",
     "text": [
      "4 8\n"
     ]
    }
   ],
   "source": [
    "a, b = process(2)\n",
    "print(a, b) # 4 8"
   ]
  },
  {
   "cell_type": "code",
   "execution_count": 23,
   "id": "bac84725",
   "metadata": {},
   "outputs": [],
   "source": [
    "r = process(2)"
   ]
  },
  {
   "cell_type": "code",
   "execution_count": 24,
   "id": "9a29f105",
   "metadata": {},
   "outputs": [
    {
     "data": {
      "text/plain": [
       "(4, 8)"
      ]
     },
     "execution_count": 24,
     "metadata": {},
     "output_type": "execute_result"
    }
   ],
   "source": [
    "r"
   ]
  },
  {
   "cell_type": "code",
   "execution_count": 25,
   "id": "5cd43808",
   "metadata": {},
   "outputs": [
    {
     "data": {
      "text/plain": [
       "tuple"
      ]
     },
     "execution_count": 25,
     "metadata": {},
     "output_type": "execute_result"
    }
   ],
   "source": [
    "type(r)"
   ]
  },
  {
   "cell_type": "code",
   "execution_count": 26,
   "id": "c472b4c1",
   "metadata": {},
   "outputs": [],
   "source": [
    "def process_3(x):\n",
    "    return x*x, x**3, x**4"
   ]
  },
  {
   "cell_type": "code",
   "execution_count": 27,
   "id": "4758bef4",
   "metadata": {},
   "outputs": [],
   "source": [
    "r3 = process_3(2)"
   ]
  },
  {
   "cell_type": "code",
   "execution_count": 28,
   "id": "1adbc8fe",
   "metadata": {},
   "outputs": [
    {
     "data": {
      "text/plain": [
       "(4, 8, 16)"
      ]
     },
     "execution_count": 28,
     "metadata": {},
     "output_type": "execute_result"
    }
   ],
   "source": [
    "r3"
   ]
  },
  {
   "cell_type": "code",
   "execution_count": 29,
   "id": "2fdcf541",
   "metadata": {},
   "outputs": [
    {
     "data": {
      "text/plain": [
       "tuple"
      ]
     },
     "execution_count": 29,
     "metadata": {},
     "output_type": "execute_result"
    }
   ],
   "source": [
    "type(r3)"
   ]
  },
  {
   "cell_type": "code",
   "execution_count": 30,
   "id": "a986b8ba",
   "metadata": {},
   "outputs": [
    {
     "name": "stdout",
     "output_type": "stream",
     "text": [
      "['__add__', '__class__', '__class_getitem__', '__contains__', '__delattr__', '__dir__', '__doc__', '__eq__', '__format__', '__ge__', '__getattribute__', '__getitem__', '__getnewargs__', '__gt__', '__hash__', '__init__', '__init_subclass__', '__iter__', '__le__', '__len__', '__lt__', '__mul__', '__ne__', '__new__', '__reduce__', '__reduce_ex__', '__repr__', '__rmul__', '__setattr__', '__sizeof__', '__str__', '__subclasshook__', 'count', 'index']\n",
      "['__add__', '__class__', '__class_getitem__', '__contains__', '__delattr__', '__delitem__', '__dir__', '__doc__', '__eq__', '__format__', '__ge__', '__getattribute__', '__getitem__', '__gt__', '__hash__', '__iadd__', '__imul__', '__init__', '__init_subclass__', '__iter__', '__le__', '__len__', '__lt__', '__mul__', '__ne__', '__new__', '__reduce__', '__reduce_ex__', '__repr__', '__reversed__', '__rmul__', '__setattr__', '__setitem__', '__sizeof__', '__str__', '__subclasshook__', 'append', 'clear', 'copy', 'count', 'extend', 'index', 'insert', 'pop', 'remove', 'reverse', 'sort']\n"
     ]
    }
   ],
   "source": [
    "print(dir(r3))\n",
    "print(dir(file_list))"
   ]
  },
  {
   "cell_type": "code",
   "execution_count": 31,
   "id": "fe30eb0d",
   "metadata": {},
   "outputs": [],
   "source": [
    "def process_no(x):\n",
    "    square = x * x"
   ]
  },
  {
   "cell_type": "code",
   "execution_count": 32,
   "id": "dd94c5ec",
   "metadata": {},
   "outputs": [],
   "source": [
    "r_no = process_no(2)"
   ]
  },
  {
   "cell_type": "code",
   "execution_count": 33,
   "id": "59d34e91",
   "metadata": {},
   "outputs": [
    {
     "name": "stdout",
     "output_type": "stream",
     "text": [
      "None\n"
     ]
    }
   ],
   "source": [
    "print(r_no)"
   ]
  },
  {
   "cell_type": "code",
   "execution_count": null,
   "id": "f524e519",
   "metadata": {},
   "outputs": [],
   "source": [
    "None # null\n",
    "True\n",
    "False"
   ]
  },
  {
   "cell_type": "code",
   "execution_count": 35,
   "id": "0c37c0be",
   "metadata": {},
   "outputs": [
    {
     "name": "stderr",
     "output_type": "stream",
     "text": [
      "/var/folders/1h/b_q4y0l93vj47b5bjfqc21f80000gn/T/ipykernel_33511/2159256941.py:2: RuntimeWarning: divide by zero encountered in true_divide\n",
      "  numpy.array(1)/numpy.array(0)\n"
     ]
    },
    {
     "data": {
      "text/plain": [
       "inf"
      ]
     },
     "execution_count": 35,
     "metadata": {},
     "output_type": "execute_result"
    }
   ],
   "source": [
    "#import numpy\n",
    "#numpy.array(1)/numpy.array(0)"
   ]
  },
  {
   "cell_type": "code",
   "execution_count": 44,
   "id": "ec273d21",
   "metadata": {},
   "outputs": [
    {
     "name": "stdout",
     "output_type": "stream",
     "text": [
      "4\n",
      "8\n",
      "16\n"
     ]
    }
   ],
   "source": [
    "for item in r3:\n",
    "    print(item)"
   ]
  },
  {
   "cell_type": "code",
   "execution_count": 39,
   "id": "d598155c",
   "metadata": {},
   "outputs": [
    {
     "name": "stdout",
     "output_type": "stream",
     "text": [
      "count down 5\n",
      "count down 4\n",
      "count down 3\n",
      "count down 2\n",
      "count down 1\n"
     ]
    }
   ],
   "source": [
    "def count_down(x, label):\n",
    "    timer = x\n",
    "    while timer > 0 and label=='count':\n",
    "        print('count down', timer)\n",
    "        timer = timer - 1\n",
    "    return\n",
    "count_down(5, 'count')"
   ]
  },
  {
   "cell_type": "code",
   "execution_count": 43,
   "id": "53a22fe8",
   "metadata": {},
   "outputs": [
    {
     "name": "stdout",
     "output_type": "stream",
     "text": [
      "None\n"
     ]
    }
   ],
   "source": [
    "rcd = count_down(5, 'skip')\n",
    "print(rcd)"
   ]
  },
  {
   "cell_type": "code",
   "execution_count": 40,
   "id": "f21b6fab",
   "metadata": {},
   "outputs": [
    {
     "name": "stdout",
     "output_type": "stream",
     "text": [
      "Help on class range in module builtins:\n",
      "\n",
      "class range(object)\n",
      " |  range(stop) -> range object\n",
      " |  range(start, stop[, step]) -> range object\n",
      " |  \n",
      " |  Return an object that produces a sequence of integers from start (inclusive)\n",
      " |  to stop (exclusive) by step.  range(i, j) produces i, i+1, i+2, ..., j-1.\n",
      " |  start defaults to 0, and stop is omitted!  range(4) produces 0, 1, 2, 3.\n",
      " |  These are exactly the valid indices for a list of 4 elements.\n",
      " |  When step is given, it specifies the increment (or decrement).\n",
      " |  \n",
      " |  Methods defined here:\n",
      " |  \n",
      " |  __bool__(self, /)\n",
      " |      True if self else False\n",
      " |  \n",
      " |  __contains__(self, key, /)\n",
      " |      Return key in self.\n",
      " |  \n",
      " |  __eq__(self, value, /)\n",
      " |      Return self==value.\n",
      " |  \n",
      " |  __ge__(self, value, /)\n",
      " |      Return self>=value.\n",
      " |  \n",
      " |  __getattribute__(self, name, /)\n",
      " |      Return getattr(self, name).\n",
      " |  \n",
      " |  __getitem__(self, key, /)\n",
      " |      Return self[key].\n",
      " |  \n",
      " |  __gt__(self, value, /)\n",
      " |      Return self>value.\n",
      " |  \n",
      " |  __hash__(self, /)\n",
      " |      Return hash(self).\n",
      " |  \n",
      " |  __iter__(self, /)\n",
      " |      Implement iter(self).\n",
      " |  \n",
      " |  __le__(self, value, /)\n",
      " |      Return self<=value.\n",
      " |  \n",
      " |  __len__(self, /)\n",
      " |      Return len(self).\n",
      " |  \n",
      " |  __lt__(self, value, /)\n",
      " |      Return self<value.\n",
      " |  \n",
      " |  __ne__(self, value, /)\n",
      " |      Return self!=value.\n",
      " |  \n",
      " |  __reduce__(...)\n",
      " |      Helper for pickle.\n",
      " |  \n",
      " |  __repr__(self, /)\n",
      " |      Return repr(self).\n",
      " |  \n",
      " |  __reversed__(...)\n",
      " |      Return a reverse iterator.\n",
      " |  \n",
      " |  count(...)\n",
      " |      rangeobject.count(value) -> integer -- return number of occurrences of value\n",
      " |  \n",
      " |  index(...)\n",
      " |      rangeobject.index(value) -> integer -- return index of value.\n",
      " |      Raise ValueError if the value is not present.\n",
      " |  \n",
      " |  ----------------------------------------------------------------------\n",
      " |  Static methods defined here:\n",
      " |  \n",
      " |  __new__(*args, **kwargs) from builtins.type\n",
      " |      Create and return a new object.  See help(type) for accurate signature.\n",
      " |  \n",
      " |  ----------------------------------------------------------------------\n",
      " |  Data descriptors defined here:\n",
      " |  \n",
      " |  start\n",
      " |  \n",
      " |  step\n",
      " |  \n",
      " |  stop\n",
      "\n"
     ]
    }
   ],
   "source": [
    "help(range)"
   ]
  },
  {
   "cell_type": "code",
   "execution_count": 41,
   "id": "b9dc8a30",
   "metadata": {},
   "outputs": [
    {
     "name": "stdout",
     "output_type": "stream",
     "text": [
      "count down 5\n",
      "count down 4\n",
      "count down 3\n",
      "count down 2\n",
      "count down 1\n"
     ]
    }
   ],
   "source": [
    "def count_down_for(x):\n",
    "    for timer in range(x, 0, -1):\n",
    "        print('count down', timer)\n",
    "count_down_for(5)"
   ]
  },
  {
   "cell_type": "code",
   "execution_count": 46,
   "id": "6e508177",
   "metadata": {},
   "outputs": [
    {
     "data": {
      "text/plain": [
       "range(5, 0)"
      ]
     },
     "execution_count": 46,
     "metadata": {},
     "output_type": "execute_result"
    }
   ],
   "source": [
    "range(5, 0, 1)"
   ]
  },
  {
   "cell_type": "code",
   "execution_count": 47,
   "id": "def64714",
   "metadata": {},
   "outputs": [
    {
     "data": {
      "text/plain": [
       "[5, 4, 3, 2, 1]"
      ]
     },
     "execution_count": 47,
     "metadata": {},
     "output_type": "execute_result"
    }
   ],
   "source": [
    "list(range(5, 0, -1))"
   ]
  },
  {
   "cell_type": "code",
   "execution_count": 50,
   "id": "8c92b0bd",
   "metadata": {},
   "outputs": [],
   "source": [
    "index_list = list(range(0, len(r3), 1))"
   ]
  },
  {
   "cell_type": "code",
   "execution_count": 51,
   "id": "7d52f6b0",
   "metadata": {},
   "outputs": [
    {
     "name": "stdout",
     "output_type": "stream",
     "text": [
      "[0, 1, 2]\n",
      "(4, 8, 16)\n"
     ]
    }
   ],
   "source": [
    "print(index_list)\n",
    "print(r3)"
   ]
  },
  {
   "cell_type": "code",
   "execution_count": 52,
   "id": "7e02ad1f",
   "metadata": {},
   "outputs": [
    {
     "name": "stdout",
     "output_type": "stream",
     "text": [
      "0 4\n",
      "1 8\n",
      "2 16\n"
     ]
    }
   ],
   "source": [
    "for index, value in zip(index_list, r3):\n",
    "    print(index, value)"
   ]
  },
  {
   "cell_type": "markdown",
   "id": "aed61961",
   "metadata": {},
   "source": [
    "summary:\n",
    "- for vs while loops\n",
    "- if elif else\n",
    "- how to define a function"
   ]
  },
  {
   "cell_type": "code",
   "execution_count": null,
   "id": "cd170d92",
   "metadata": {},
   "outputs": [],
   "source": []
  },
  {
   "cell_type": "code",
   "execution_count": 48,
   "id": "275f5433",
   "metadata": {},
   "outputs": [
    {
     "name": "stdout",
     "output_type": "stream",
     "text": [
      "current time is 2022-03-29 20:06:59.511252\n",
      "waited for 60 seconds\n",
      "iteration 0 current time is 2022-03-29 20:07:59.511997\n",
      "waited for 60 seconds\n",
      "iteration 1 current time is 2022-03-29 20:08:59.513094\n",
      "waited for 60 seconds\n",
      "iteration 2 current time is 2022-03-29 20:09:59.513479\n",
      "waited for 60 seconds\n",
      "iteration 3 current time is 2022-03-29 20:10:59.515516\n",
      "waited for 60 seconds\n",
      "iteration 4 current time is 2022-03-29 20:11:59.513039\n",
      "waited for 60 seconds\n",
      "iteration 5 current time is 2022-03-29 20:12:59.511935\n",
      "waited for 60 seconds\n",
      "iteration 6 current time is 2022-03-29 20:13:59.511433\n",
      "waited for 60 seconds\n",
      "iteration 7 current time is 2022-03-29 20:14:59.510900\n",
      "waited for 60 seconds\n",
      "iteration 8 current time is 2022-03-29 20:15:59.510491\n",
      "waited for 60 seconds\n",
      "iteration 9 current time is 2022-03-29 20:16:59.510800\n",
      "waited for 60 seconds\n",
      "iteration 10 current time is 2022-03-29 20:17:59.509993\n",
      "waited for 60 seconds\n",
      "iteration 11 current time is 2022-03-29 20:18:59.511553\n",
      "waited for 60 seconds\n",
      "iteration 12 current time is 2022-03-29 20:19:59.509037\n",
      "waited for 60 seconds\n",
      "iteration 13 current time is 2022-03-29 20:20:59.506451\n",
      "waited for 60 seconds\n",
      "iteration 14 current time is 2022-03-29 20:21:59.506731\n",
      "waited for 60 seconds\n",
      "iteration 15 current time is 2022-03-29 20:22:59.505660\n",
      "waited for 60 seconds\n",
      "iteration 16 current time is 2022-03-29 20:23:59.511802\n",
      "waited for 60 seconds\n",
      "iteration 17 current time is 2022-03-29 20:24:59.513432\n",
      "waited for 60 seconds\n",
      "iteration 18 current time is 2022-03-29 20:25:59.514378\n",
      "waited for 60 seconds\n",
      "iteration 19 current time is 2022-03-29 20:26:59.516553\n",
      "waited for 60 seconds\n",
      "iteration 20 current time is 2022-03-29 20:27:59.517703\n",
      "waited for 60 seconds\n",
      "iteration 21 current time is 2022-03-29 20:28:59.516619\n",
      "waited for 60 seconds\n",
      "iteration 22 current time is 2022-03-29 20:29:59.518323\n",
      "waited for 60 seconds\n",
      "iteration 23 current time is 2022-03-29 20:30:59.549913\n",
      "waited for 60 seconds\n",
      "iteration 24 current time is 2022-03-29 20:31:59.551509\n",
      "waited for 60 seconds\n",
      "iteration 25 current time is 2022-03-29 20:32:59.553211\n",
      "waited for 60 seconds\n",
      "iteration 26 current time is 2022-03-29 20:33:59.553388\n",
      "waited for 60 seconds\n",
      "iteration 27 current time is 2022-03-29 20:34:59.556013\n",
      "waited for 60 seconds\n",
      "iteration 28 current time is 2022-03-29 20:35:59.555711\n",
      "waited for 60 seconds\n",
      "iteration 29 current time is 2022-03-29 20:36:59.557598\n",
      "total wait time is 1800 seconds\n"
     ]
    }
   ],
   "source": [
    "import time\n",
    "import datetime\n",
    "\n",
    "interval = 1 * 60 # 1 mins\n",
    "wait_time = 30 * 60 # 30 mins\n",
    "print('current time is', datetime.datetime.now())\n",
    "for i in range(int(wait_time/interval)):\n",
    "    time.sleep(interval)\n",
    "    print('waited for {} seconds'.format(interval))\n",
    "    print('iteration', i, 'current time is', datetime.datetime.now())\n",
    "    \n",
    "print('total wait time is {} seconds'.format(wait_time))"
   ]
  },
  {
   "cell_type": "code",
   "execution_count": 53,
   "id": "a94d6d45",
   "metadata": {},
   "outputs": [
    {
     "name": "stdout",
     "output_type": "stream",
     "text": [
      "current time is 2022-03-29 21:54:50.095195\n",
      "waited for 5.0 seconds\n",
      "iteration 0 current time is 2022-03-29 21:54:55.096801\n",
      "waited for 5.0 seconds\n",
      "iteration 1 current time is 2022-03-29 21:55:00.098629\n",
      "waited for 5.0 seconds\n",
      "iteration 2 current time is 2022-03-29 21:55:05.102073\n",
      "waited for 5.0 seconds\n",
      "iteration 3 current time is 2022-03-29 21:55:10.105817\n",
      "waited for 5.0 seconds\n",
      "iteration 4 current time is 2022-03-29 21:55:15.108571\n",
      "waited for 5.0 seconds\n",
      "iteration 5 current time is 2022-03-29 21:55:20.109364\n",
      "waited for 5.0 seconds\n",
      "iteration 6 current time is 2022-03-29 21:55:25.113189\n",
      "waited for 5.0 seconds\n",
      "iteration 7 current time is 2022-03-29 21:55:30.115373\n",
      "waited for 5.0 seconds\n",
      "iteration 8 current time is 2022-03-29 21:55:35.115947\n",
      "waited for 5.0 seconds\n",
      "iteration 9 current time is 2022-03-29 21:55:40.117433\n",
      "waited for 5.0 seconds\n",
      "iteration 10 current time is 2022-03-29 21:55:45.117577\n",
      "waited for 5.0 seconds\n",
      "iteration 11 current time is 2022-03-29 21:55:50.117600\n",
      "total wait time is 60 seconds\n"
     ]
    }
   ],
   "source": [
    "import time\n",
    "import datetime\n",
    "\n",
    "def timer_count_down(interval_m, wait_time_m):\n",
    "    interval = interval_m * 60 # mins --> seconds\n",
    "    wait_time = wait_time_m * 60 # mins --> seconds\n",
    "    print('current time is', datetime.datetime.now())\n",
    "    for i in range(int(wait_time/interval)):\n",
    "        time.sleep(interval)\n",
    "        print('waited for {} seconds'.format(interval))\n",
    "        print('iteration', i, 'current time is', datetime.datetime.now())\n",
    "\n",
    "    print('total wait time is {} seconds'.format(wait_time))\n",
    "    \n",
    "timer_count_down(5/60, 1)"
   ]
  },
  {
   "cell_type": "code",
   "execution_count": 54,
   "id": "8659e92f",
   "metadata": {},
   "outputs": [],
   "source": [
    "import os.path, os"
   ]
  },
  {
   "cell_type": "code",
   "execution_count": 55,
   "id": "c06acd8e",
   "metadata": {},
   "outputs": [
    {
     "name": "stdout",
     "output_type": "stream",
     "text": [
      "/Users/doris/workshop\r\n"
     ]
    }
   ],
   "source": [
    "!pwd"
   ]
  },
  {
   "cell_type": "code",
   "execution_count": 56,
   "id": "14291040",
   "metadata": {},
   "outputs": [
    {
     "data": {
      "text/plain": [
       "'/Users/doris/workshop'"
      ]
     },
     "execution_count": 56,
     "metadata": {},
     "output_type": "execute_result"
    }
   ],
   "source": [
    "os.getcwd()"
   ]
  },
  {
   "cell_type": "code",
   "execution_count": null,
   "id": "efd0ef91",
   "metadata": {},
   "outputs": [],
   "source": []
  }
 ],
 "metadata": {
  "kernelspec": {
   "display_name": "Python 3 (ipykernel)",
   "language": "python",
   "name": "python3"
  },
  "language_info": {
   "codemirror_mode": {
    "name": "ipython",
    "version": 3
   },
   "file_extension": ".py",
   "mimetype": "text/x-python",
   "name": "python",
   "nbconvert_exporter": "python",
   "pygments_lexer": "ipython3",
   "version": "3.9.12"
  }
 },
 "nbformat": 4,
 "nbformat_minor": 5
}

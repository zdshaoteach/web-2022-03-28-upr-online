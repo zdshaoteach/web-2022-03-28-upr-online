{
 "cells": [
  {
   "cell_type": "markdown",
   "id": "afe27980",
   "metadata": {},
   "source": [
    "# Python I"
   ]
  },
  {
   "cell_type": "markdown",
   "id": "8fa83d51",
   "metadata": {},
   "source": [
    "---\n",
    "\n",
    "reference curriculum: [Plotting and Programming in Python](https://swcarpentry.github.io/python-novice-gapminder/)"
   ]
  },
  {
   "cell_type": "markdown",
   "id": "ce387bf8",
   "metadata": {},
   "source": [
    "---\n",
    "\n",
    "Duration:\n",
    "- 60 mins\n",
    "    \n",
    "Questions:\n",
    "- where should I start with python? \n",
    "- how to write a small piece of code?\n",
    "    \n",
    "objective:\n",
    "- get familiar with jupyter notebook\n",
    "- store data in python and understand data types\n",
    "- operate data\n",
    "- introduce help and built-in functions\n",
    "\n",
    "---"
   ]
  },
  {
   "cell_type": "markdown",
   "id": "09ff186f",
   "metadata": {},
   "source": [
    "## introduce jupyter notebook"
   ]
  },
  {
   "cell_type": "markdown",
   "id": "a34f59e4",
   "metadata": {},
   "source": [
    "15 mins"
   ]
  },
  {
   "cell_type": "markdown",
   "id": "80d475d6",
   "metadata": {},
   "source": [
    "- anaconda navigator\n",
    "- command-line `jupyter notebook`"
   ]
  },
  {
   "cell_type": "markdown",
   "id": "d320e22b",
   "metadata": {},
   "source": [
    "- file view\n",
    "- create and rename a notebook\n",
    "- run cell\n",
    "- stop cell\n",
    "- view: show line number\n",
    "- about kernel\n",
    "- close and stop a notebook"
   ]
  },
  {
   "cell_type": "markdown",
   "id": "2ab57783",
   "metadata": {},
   "source": [
    "## variables and data types"
   ]
  },
  {
   "cell_type": "code",
   "execution_count": 1,
   "id": "a678d67e",
   "metadata": {},
   "outputs": [],
   "source": [
    "# create a variable\n",
    "my_name = 'Doris'"
   ]
  },
  {
   "cell_type": "code",
   "execution_count": 2,
   "id": "9ba1fcca",
   "metadata": {},
   "outputs": [
    {
     "data": {
      "text/plain": [
       "'Doris'"
      ]
     },
     "execution_count": 2,
     "metadata": {},
     "output_type": "execute_result"
    }
   ],
   "source": [
    "# display a variable\n",
    "my_name"
   ]
  },
  {
   "cell_type": "code",
   "execution_count": 3,
   "id": "97048d1a",
   "metadata": {},
   "outputs": [],
   "source": [
    "# variable name pattern\n",
    "# [a-zA-Z\\_]+[a-zA-Z0-9\\_]*\n",
    "_my_name = 'Doris'\n",
    "_my_name_0 = 'Doris'\n",
    "_ = 'Doris'"
   ]
  },
  {
   "cell_type": "code",
   "execution_count": 4,
   "id": "d00f7f0f",
   "metadata": {},
   "outputs": [
    {
     "data": {
      "text/plain": [
       "'Doris'"
      ]
     },
     "execution_count": 4,
     "metadata": {},
     "output_type": "execute_result"
    }
   ],
   "source": [
    "_my_name"
   ]
  },
  {
   "cell_type": "code",
   "execution_count": 5,
   "id": "836edc37",
   "metadata": {},
   "outputs": [
    {
     "data": {
      "text/plain": [
       "'Doris'"
      ]
     },
     "execution_count": 5,
     "metadata": {},
     "output_type": "execute_result"
    }
   ],
   "source": [
    "_my_name_0"
   ]
  },
  {
   "cell_type": "code",
   "execution_count": 6,
   "id": "edf9ee2b",
   "metadata": {},
   "outputs": [
    {
     "data": {
      "text/plain": [
       "'Doris'"
      ]
     },
     "execution_count": 6,
     "metadata": {},
     "output_type": "execute_result"
    }
   ],
   "source": [
    "_"
   ]
  },
  {
   "cell_type": "code",
   "execution_count": 7,
   "id": "b24bfd56",
   "metadata": {},
   "outputs": [
    {
     "ename": "SyntaxError",
     "evalue": "invalid decimal literal (2436580176.py, line 2)",
     "output_type": "error",
     "traceback": [
      "\u001b[0;36m  Input \u001b[0;32mIn [7]\u001b[0;36m\u001b[0m\n\u001b[0;31m    0_name = 'Doris'\u001b[0m\n\u001b[0m     ^\u001b[0m\n\u001b[0;31mSyntaxError\u001b[0m\u001b[0;31m:\u001b[0m invalid decimal literal\n"
     ]
    }
   ],
   "source": [
    "# variable names cannot start with a number\n",
    "0_name = 'Doris'"
   ]
  },
  {
   "cell_type": "code",
   "execution_count": 8,
   "id": "66d6079d",
   "metadata": {},
   "outputs": [
    {
     "ename": "NameError",
     "evalue": "name '_my_name_1' is not defined",
     "output_type": "error",
     "traceback": [
      "\u001b[0;31m---------------------------------------------------------------------------\u001b[0m",
      "\u001b[0;31mNameError\u001b[0m                                 Traceback (most recent call last)",
      "Input \u001b[0;32mIn [8]\u001b[0m, in \u001b[0;36m<cell line: 2>\u001b[0;34m()\u001b[0m\n\u001b[1;32m      1\u001b[0m \u001b[38;5;66;03m# display an undefined variable\u001b[39;00m\n\u001b[0;32m----> 2\u001b[0m \u001b[43m_my_name_1\u001b[49m\n",
      "\u001b[0;31mNameError\u001b[0m: name '_my_name_1' is not defined"
     ]
    }
   ],
   "source": [
    "# display an undefined variable\n",
    "_my_name_1"
   ]
  },
  {
   "cell_type": "code",
   "execution_count": null,
   "id": "6da3c556",
   "metadata": {},
   "outputs": [],
   "source": [
    "# print content\n",
    "print(my_name)"
   ]
  },
  {
   "cell_type": "code",
   "execution_count": 9,
   "id": "fc0f6cfa",
   "metadata": {},
   "outputs": [
    {
     "ename": "NameError",
     "evalue": "name 'Print' is not defined",
     "output_type": "error",
     "traceback": [
      "\u001b[0;31m---------------------------------------------------------------------------\u001b[0m",
      "\u001b[0;31mNameError\u001b[0m                                 Traceback (most recent call last)",
      "Input \u001b[0;32mIn [9]\u001b[0m, in \u001b[0;36m<cell line: 2>\u001b[0;34m()\u001b[0m\n\u001b[1;32m      1\u001b[0m \u001b[38;5;66;03m# python is case-sensitive\u001b[39;00m\n\u001b[0;32m----> 2\u001b[0m \u001b[43mPrint\u001b[49m(my_name)\n",
      "\u001b[0;31mNameError\u001b[0m: name 'Print' is not defined"
     ]
    }
   ],
   "source": [
    "# python is case-sensitive\n",
    "Print(my_name)"
   ]
  },
  {
   "cell_type": "code",
   "execution_count": 10,
   "id": "543f0e6b",
   "metadata": {},
   "outputs": [
    {
     "ename": "NameError",
     "evalue": "name 'My_name' is not defined",
     "output_type": "error",
     "traceback": [
      "\u001b[0;31m---------------------------------------------------------------------------\u001b[0m",
      "\u001b[0;31mNameError\u001b[0m                                 Traceback (most recent call last)",
      "Input \u001b[0;32mIn [10]\u001b[0m, in \u001b[0;36m<cell line: 2>\u001b[0;34m()\u001b[0m\n\u001b[1;32m      1\u001b[0m \u001b[38;5;66;03m# python is case-sensitive\u001b[39;00m\n\u001b[0;32m----> 2\u001b[0m \u001b[38;5;28mprint\u001b[39m(\u001b[43mMy_name\u001b[49m)\n",
      "\u001b[0;31mNameError\u001b[0m: name 'My_name' is not defined"
     ]
    }
   ],
   "source": [
    "# python is case-sensitive\n",
    "print(My_name)"
   ]
  },
  {
   "cell_type": "code",
   "execution_count": 11,
   "id": "1523ceb1",
   "metadata": {
    "scrolled": true
   },
   "outputs": [
    {
     "name": "stdout",
     "output_type": "stream",
     "text": [
      "my name is Doris\n"
     ]
    }
   ],
   "source": [
    "# print multiple content\n",
    "print('my name is', my_name)"
   ]
  },
  {
   "cell_type": "code",
   "execution_count": 12,
   "id": "1348fd45",
   "metadata": {},
   "outputs": [
    {
     "name": "stdout",
     "output_type": "stream",
     "text": [
      "my name is David\n"
     ]
    }
   ],
   "source": [
    "# overwrite a variable\n",
    "my_name = 'David'\n",
    "print('my name is', my_name)"
   ]
  },
  {
   "cell_type": "code",
   "execution_count": 13,
   "id": "ed435c3a",
   "metadata": {},
   "outputs": [],
   "source": [
    "#!!!!!!!!!!!!!!!!!!!!!!!!!!!!!!!!!!!!!!!!\n",
    "# danger\n",
    "# over-write print\n",
    "#print = 32"
   ]
  },
  {
   "cell_type": "code",
   "execution_count": 14,
   "id": "e4da2164",
   "metadata": {},
   "outputs": [
    {
     "name": "stdout",
     "output_type": "stream",
     "text": [
      "my name is David\n"
     ]
    }
   ],
   "source": [
    "#!!!!!!!!!!!!!!!!!!!!!!!!!!!!!!!!!!!!!!!!\n",
    "# danger\n",
    "# over-write print\n",
    "# retry \"print multiple content\"\n",
    "print('my name is', my_name)"
   ]
  },
  {
   "cell_type": "code",
   "execution_count": 15,
   "id": "6fd6d3cc",
   "metadata": {},
   "outputs": [
    {
     "name": "stdout",
     "output_type": "stream",
     "text": [
      "my name is David\n"
     ]
    }
   ],
   "source": [
    "#!!!!!!!!!!!!!!!!!!!!!!!!!!!!!!!!!!!!!!!!\n",
    "# danger\n",
    "# over-write print\n",
    "# resolve \"over-write print\"\n",
    "# restart kernel under the menu \"Kernel\"\n",
    "print('my name is', my_name)"
   ]
  },
  {
   "cell_type": "code",
   "execution_count": 16,
   "id": "a7220692",
   "metadata": {},
   "outputs": [
    {
     "name": "stdout",
     "output_type": "stream",
     "text": [
      "my name is Doris\n"
     ]
    }
   ],
   "source": [
    "#!!!!!!!!!!!!!!!!!!!!!!!!!!!!!!!!!!!!!!!!\n",
    "# danger\n",
    "# resolve \"re-write print\"\n",
    "# restart kernel under the menu \"Kernel\"\n",
    "my_name = 'Doris'\n",
    "print('my name is', my_name)"
   ]
  },
  {
   "cell_type": "code",
   "execution_count": 17,
   "id": "6cd4a804",
   "metadata": {},
   "outputs": [
    {
     "name": "stdout",
     "output_type": "stream",
     "text": [
      "my name is, Doris ; my age is 19 .\n"
     ]
    }
   ],
   "source": [
    "########################################\n",
    "# exercise: create and print your name and age\n",
    "my_age = 19\n",
    "my_name = 'Doris'\n",
    "print('my name is,', my_name, '; my age is', my_age, '.')"
   ]
  },
  {
   "cell_type": "code",
   "execution_count": 18,
   "id": "839295f5",
   "metadata": {},
   "outputs": [],
   "source": [
    "# basic data types: bool int float str \n",
    "a_bool = True\n",
    "b_bool = False\n",
    "age = 19\n",
    "pi = 3.1415926\n",
    "a_letter = 'c'\n",
    "b_letter = \"c\"\n",
    "my_name = 'Doris'\n",
    "a_sentence = \"that's my book\""
   ]
  },
  {
   "cell_type": "code",
   "execution_count": 19,
   "id": "a5362fca",
   "metadata": {},
   "outputs": [
    {
     "data": {
      "text/plain": [
       "bool"
      ]
     },
     "execution_count": 19,
     "metadata": {},
     "output_type": "execute_result"
    }
   ],
   "source": [
    "type(a_bool)"
   ]
  },
  {
   "cell_type": "code",
   "execution_count": 20,
   "id": "9bd57463",
   "metadata": {},
   "outputs": [
    {
     "name": "stdout",
     "output_type": "stream",
     "text": [
      "<class 'bool'> <class 'bool'> <class 'int'> <class 'float'> <class 'str'> <class 'str'> <class 'str'> <class 'str'>\n"
     ]
    }
   ],
   "source": [
    "# print variable type\n",
    "print(type(a_bool), type(b_bool), type(age), type(pi), \\\n",
    "      type(a_letter), type(b_letter), type(my_name), type(a_sentence))"
   ]
  },
  {
   "cell_type": "code",
   "execution_count": 21,
   "id": "95041f61",
   "metadata": {},
   "outputs": [
    {
     "data": {
      "text/plain": [
       "7"
      ]
     },
     "execution_count": 21,
     "metadata": {},
     "output_type": "execute_result"
    }
   ],
   "source": [
    "# basic data operations: + - * / ** %\n",
    "3 + 4"
   ]
  },
  {
   "cell_type": "code",
   "execution_count": 22,
   "id": "d055a3ba",
   "metadata": {},
   "outputs": [
    {
     "data": {
      "text/plain": [
       "12"
      ]
     },
     "execution_count": 22,
     "metadata": {},
     "output_type": "execute_result"
    }
   ],
   "source": [
    "3 * 4"
   ]
  },
  {
   "cell_type": "code",
   "execution_count": 23,
   "id": "369a677f",
   "metadata": {},
   "outputs": [
    {
     "data": {
      "text/plain": [
       "1.3333333333333333"
      ]
     },
     "execution_count": 23,
     "metadata": {},
     "output_type": "execute_result"
    }
   ],
   "source": [
    "4 / 3"
   ]
  },
  {
   "cell_type": "code",
   "execution_count": 24,
   "id": "e78694b2",
   "metadata": {},
   "outputs": [
    {
     "data": {
      "text/plain": [
       "8"
      ]
     },
     "execution_count": 24,
     "metadata": {},
     "output_type": "execute_result"
    }
   ],
   "source": [
    "# power \n",
    "# 2 ** 3 = 2 * 2 * 2\n",
    "2 ** 3"
   ]
  },
  {
   "cell_type": "code",
   "execution_count": 25,
   "id": "8a39f7bb",
   "metadata": {},
   "outputs": [
    {
     "data": {
      "text/plain": [
       "1"
      ]
     },
     "execution_count": 25,
     "metadata": {},
     "output_type": "execute_result"
    }
   ],
   "source": [
    "# remainder\n",
    "4 % 3"
   ]
  },
  {
   "cell_type": "code",
   "execution_count": 26,
   "id": "73c170c1",
   "metadata": {},
   "outputs": [
    {
     "data": {
      "text/plain": [
       "0"
      ]
     },
     "execution_count": 26,
     "metadata": {},
     "output_type": "execute_result"
    }
   ],
   "source": [
    "# remainder\n",
    "9 % 3"
   ]
  },
  {
   "cell_type": "code",
   "execution_count": 27,
   "id": "61aa52d4",
   "metadata": {},
   "outputs": [
    {
     "name": "stdout",
     "output_type": "stream",
     "text": [
      "total_payment is 2.5\n",
      "type of apple_price is <class 'float'>\n",
      "type of bread_price is <class 'int'>\n",
      "type of total_payment is <class 'float'>\n"
     ]
    }
   ],
   "source": [
    "########################################\n",
    "# exercise: print the data types\n",
    "# objective: understand the casting of data types\n",
    "apple_price = 1.5 # dollar\n",
    "bread_price = 1 # dollar\n",
    "total_payment = apple_price + bread_price\n",
    "print('total_payment is', total_payment)\n",
    "print('type of apple_price is', type(apple_price))\n",
    "print('type of bread_price is', type(bread_price))\n",
    "print('type of total_payment is', type(total_payment))"
   ]
  },
  {
   "cell_type": "code",
   "execution_count": 28,
   "id": "fff77f2c",
   "metadata": {},
   "outputs": [
    {
     "name": "stdout",
     "output_type": "stream",
     "text": [
      "total_payment is 4.5\n",
      "type of apple_price is <class 'float'>\n",
      "type of apple_count is <class 'int'>\n",
      "type of total_payment is <class 'float'>\n"
     ]
    }
   ],
   "source": [
    "########################################\n",
    "# exercise: print the data types\n",
    "# objective: understand the casting of data types\n",
    "apple_price = 1.5 # dollar\n",
    "apple_count = 3\n",
    "total_payment = apple_price * apple_count\n",
    "print('total_payment is', total_payment)\n",
    "print('type of apple_price is', type(apple_price))\n",
    "print('type of apple_count is', type(apple_count))\n",
    "print('type of total_payment is', type(total_payment))"
   ]
  },
  {
   "cell_type": "code",
   "execution_count": 29,
   "id": "6fe46769",
   "metadata": {},
   "outputs": [
    {
     "name": "stdout",
     "output_type": "stream",
     "text": [
      "type of bread_price is <class 'int'>\n",
      "type of bread_price is <class 'float'>\n"
     ]
    }
   ],
   "source": [
    "# convert int to float\n",
    "bread_price = 1 # dollar\n",
    "print('type of bread_price is', type(bread_price))\n",
    "bread_price = float(bread_price)\n",
    "print('type of bread_price is', type(bread_price))"
   ]
  },
  {
   "cell_type": "code",
   "execution_count": 30,
   "id": "0e4a9116",
   "metadata": {},
   "outputs": [
    {
     "data": {
      "text/plain": [
       "1.0"
      ]
     },
     "execution_count": 30,
     "metadata": {},
     "output_type": "execute_result"
    }
   ],
   "source": [
    "# check value\n",
    "bread_price"
   ]
  },
  {
   "cell_type": "code",
   "execution_count": 31,
   "id": "618e9e9b",
   "metadata": {},
   "outputs": [
    {
     "name": "stdout",
     "output_type": "stream",
     "text": [
      "type of bread_price is <class 'int'>\n",
      "type of bread_price_str is <class 'str'>\n"
     ]
    }
   ],
   "source": [
    "########################################\n",
    "# exercise: convert int to str\n",
    "# objective: understand the casting of data types\n",
    "bread_price = 1 # dollar\n",
    "print('type of bread_price is', type(bread_price))\n",
    "bread_price_str = str(bread_price)\n",
    "print('type of bread_price_str is', type(bread_price_str))"
   ]
  },
  {
   "cell_type": "code",
   "execution_count": 32,
   "id": "b5841ffa",
   "metadata": {},
   "outputs": [
    {
     "data": {
      "text/plain": [
       "'1'"
      ]
     },
     "execution_count": 32,
     "metadata": {},
     "output_type": "execute_result"
    }
   ],
   "source": [
    "# check value\n",
    "bread_price_str"
   ]
  },
  {
   "cell_type": "code",
   "execution_count": 33,
   "id": "6f4e25f0",
   "metadata": {},
   "outputs": [
    {
     "name": "stdout",
     "output_type": "stream",
     "text": [
      "type of bread_price is <class 'int'>\n",
      "type of bread_price_bool is <class 'bool'>\n"
     ]
    }
   ],
   "source": [
    "########################################\n",
    "# exercise: convert int to str\n",
    "# objective: understand the casting of data types\n",
    "bread_price = 1 # dollar\n",
    "print('type of bread_price is', type(bread_price))\n",
    "bread_price_bool = bool(bread_price)\n",
    "print('type of bread_price_bool is', type(bread_price_bool))"
   ]
  },
  {
   "cell_type": "code",
   "execution_count": 34,
   "id": "995fdd62",
   "metadata": {},
   "outputs": [
    {
     "data": {
      "text/plain": [
       "True"
      ]
     },
     "execution_count": 34,
     "metadata": {},
     "output_type": "execute_result"
    }
   ],
   "source": [
    "# check value\n",
    "bread_price_bool"
   ]
  },
  {
   "cell_type": "code",
   "execution_count": 35,
   "id": "5656fbc4",
   "metadata": {},
   "outputs": [
    {
     "name": "stdout",
     "output_type": "stream",
     "text": [
      "type of apple_price is <class 'str'>\n",
      "type of apple_count is <class 'int'>\n",
      "total_payment is 1.51.51.5\n",
      "type of total_payment is <class 'str'>\n"
     ]
    }
   ],
   "source": [
    "########################################\n",
    "# exercise: convertion of data types\n",
    "# objective: understand the casting of data types\n",
    "apple_price = 1.5 # dollar\n",
    "apple_count = 3\n",
    "apple_price = str(apple_price)\n",
    "total_payment = apple_price * apple_count\n",
    "\n",
    "#? what is the output?\n",
    "print('type of apple_price is', type(apple_price))\n",
    "print('type of apple_count is', type(apple_count))\n",
    "print('total_payment is', total_payment)\n",
    "print('type of total_payment is', type(total_payment))"
   ]
  },
  {
   "cell_type": "markdown",
   "id": "31d6e79b",
   "metadata": {},
   "source": [
    "[more on data types (w3schools)](https://www.w3schools.com/python/python_datatypes.asp)"
   ]
  },
  {
   "cell_type": "code",
   "execution_count": 36,
   "id": "341cde90",
   "metadata": {},
   "outputs": [
    {
     "name": "stdout",
     "output_type": "stream",
     "text": [
      "x is 1 y is 3\n",
      "x is 3 y is 1\n"
     ]
    }
   ],
   "source": [
    "########################################\n",
    "# exercise: swap values\n",
    "# objective: operate data\n",
    "x, y = 1, 3\n",
    "print('x is', x, 'y is', y)\n",
    "#\n",
    "#----------------------------------------\n",
    "# write your code here\n",
    "swap = x\n",
    "x = y\n",
    "y = swap\n",
    "#----------------------------------------\n",
    "#\n",
    "print('x is', x, 'y is', y)"
   ]
  },
  {
   "cell_type": "code",
   "execution_count": 37,
   "id": "4a337682",
   "metadata": {},
   "outputs": [
    {
     "data": {
      "text/plain": [
       "'Doris'"
      ]
     },
     "execution_count": 37,
     "metadata": {},
     "output_type": "execute_result"
    }
   ],
   "source": [
    "# display a string\n",
    "my_name"
   ]
  },
  {
   "cell_type": "code",
   "execution_count": 38,
   "id": "adfb61bf",
   "metadata": {},
   "outputs": [
    {
     "data": {
      "text/plain": [
       "'or'"
      ]
     },
     "execution_count": 38,
     "metadata": {},
     "output_type": "execute_result"
    }
   ],
   "source": [
    "# slice a string\n",
    "# string index: [0,1,2,3,...]\n",
    "# reversed index: [...,-4,-3,-2,-1]\n",
    "my_name[1:3]"
   ]
  },
  {
   "cell_type": "code",
   "execution_count": 39,
   "id": "8a435c78",
   "metadata": {},
   "outputs": [
    {
     "data": {
      "text/plain": [
       "'Do'"
      ]
     },
     "execution_count": 39,
     "metadata": {},
     "output_type": "execute_result"
    }
   ],
   "source": [
    "########################################\n",
    "# exercise: slice a string\n",
    "# slice the first two letters\n",
    "my_name[0:2]"
   ]
  },
  {
   "cell_type": "code",
   "execution_count": 40,
   "id": "b0a10872",
   "metadata": {},
   "outputs": [
    {
     "data": {
      "text/plain": [
       "'Do'"
      ]
     },
     "execution_count": 40,
     "metadata": {},
     "output_type": "execute_result"
    }
   ],
   "source": [
    "########################################\n",
    "# exercise: slice a string\n",
    "# slice the first two letters\n",
    "my_name[:2]"
   ]
  },
  {
   "cell_type": "code",
   "execution_count": 41,
   "id": "e537ab6d",
   "metadata": {},
   "outputs": [
    {
     "data": {
      "text/plain": [
       "'is'"
      ]
     },
     "execution_count": 41,
     "metadata": {},
     "output_type": "execute_result"
    }
   ],
   "source": [
    "########################################\n",
    "# exercise: slice a string\n",
    "# slice the last two letters\n",
    "my_name[3:5]"
   ]
  },
  {
   "cell_type": "code",
   "execution_count": 42,
   "id": "a6e9be1b",
   "metadata": {},
   "outputs": [
    {
     "data": {
      "text/plain": [
       "'is'"
      ]
     },
     "execution_count": 42,
     "metadata": {},
     "output_type": "execute_result"
    }
   ],
   "source": [
    "########################################\n",
    "# exercise: slice a string\n",
    "# slice the last two letters\n",
    "my_name[3:]"
   ]
  },
  {
   "cell_type": "code",
   "execution_count": 43,
   "id": "18a1c18c",
   "metadata": {},
   "outputs": [
    {
     "data": {
      "text/plain": [
       "'is'"
      ]
     },
     "execution_count": 43,
     "metadata": {},
     "output_type": "execute_result"
    }
   ],
   "source": [
    "########################################\n",
    "# exercise: slice a string\n",
    "# slice the last two letters\n",
    "my_name[-2:]"
   ]
  },
  {
   "cell_type": "code",
   "execution_count": 44,
   "id": "4a9692e3",
   "metadata": {},
   "outputs": [
    {
     "data": {
      "text/plain": [
       "'is'"
      ]
     },
     "execution_count": 44,
     "metadata": {},
     "output_type": "execute_result"
    }
   ],
   "source": [
    "########################################\n",
    "# exercise: slice a string\n",
    "# slice the last two letters\n",
    "my_name[-2:5]"
   ]
  },
  {
   "cell_type": "code",
   "execution_count": 45,
   "id": "07a3bb48",
   "metadata": {},
   "outputs": [
    {
     "name": "stdout",
     "output_type": "stream",
     "text": [
      "my full name is Doris Shao\n"
     ]
    }
   ],
   "source": [
    "########################################\n",
    "# exercise: string addition\n",
    "# add two strings\n",
    "first_name = 'Doris'\n",
    "last_name = 'Shao'\n",
    "#full_name = first_name + last_name\n",
    "full_name = first_name + ' ' + last_name\n",
    "print('my full name is', full_name)"
   ]
  },
  {
   "cell_type": "code",
   "execution_count": 46,
   "id": "39eb9ec7",
   "metadata": {},
   "outputs": [],
   "source": [
    "# complex number\n",
    "a_complex_number = 1+2j"
   ]
  },
  {
   "cell_type": "code",
   "execution_count": 47,
   "id": "5e0cd6a1",
   "metadata": {},
   "outputs": [
    {
     "data": {
      "text/plain": [
       "(1+2j)"
      ]
     },
     "execution_count": 47,
     "metadata": {},
     "output_type": "execute_result"
    }
   ],
   "source": [
    "a_complex_number"
   ]
  },
  {
   "cell_type": "code",
   "execution_count": 48,
   "id": "595c3ffc",
   "metadata": {},
   "outputs": [
    {
     "name": "stdout",
     "output_type": "stream",
     "text": [
      "1.0\n",
      "2.0\n"
     ]
    }
   ],
   "source": [
    "print(a_complex_number.real)\n",
    "print(a_complex_number.imag)"
   ]
  },
  {
   "cell_type": "markdown",
   "id": "2fd6c622",
   "metadata": {},
   "source": [
    "## built-in functions"
   ]
  },
  {
   "cell_type": "markdown",
   "id": "4165f099",
   "metadata": {},
   "source": [
    "a list of built-in functions\n",
    "[docs.python.org](https://docs.python.org/3/library/functions.html)"
   ]
  },
  {
   "cell_type": "code",
   "execution_count": 49,
   "id": "c99e068e",
   "metadata": {},
   "outputs": [
    {
     "data": {
      "text/plain": [
       "Type help() for interactive help, or help(object) for help about object."
      ]
     },
     "execution_count": 49,
     "metadata": {},
     "output_type": "execute_result"
    }
   ],
   "source": [
    "help"
   ]
  },
  {
   "cell_type": "code",
   "execution_count": 50,
   "id": "15de23ec",
   "metadata": {},
   "outputs": [
    {
     "name": "stdout",
     "output_type": "stream",
     "text": [
      "Help on built-in function print in module builtins:\n",
      "\n",
      "print(...)\n",
      "    print(value, ..., sep=' ', end='\\n', file=sys.stdout, flush=False)\n",
      "    \n",
      "    Prints the values to a stream, or to sys.stdout by default.\n",
      "    Optional keyword arguments:\n",
      "    file:  a file-like object (stream); defaults to the current sys.stdout.\n",
      "    sep:   string inserted between values, default a space.\n",
      "    end:   string appended after the last value, default a newline.\n",
      "    flush: whether to forcibly flush the stream.\n",
      "\n"
     ]
    }
   ],
   "source": [
    "help(print)"
   ]
  },
  {
   "cell_type": "code",
   "execution_count": 51,
   "id": "4643f29c",
   "metadata": {},
   "outputs": [
    {
     "name": "stdout",
     "output_type": "stream",
     "text": [
      "Help on class type in module builtins:\n",
      "\n",
      "class type(object)\n",
      " |  type(object) -> the object's type\n",
      " |  type(name, bases, dict, **kwds) -> a new type\n",
      " |  \n",
      " |  Methods defined here:\n",
      " |  \n",
      " |  __call__(self, /, *args, **kwargs)\n",
      " |      Call self as a function.\n",
      " |  \n",
      " |  __delattr__(self, name, /)\n",
      " |      Implement delattr(self, name).\n",
      " |  \n",
      " |  __dir__(self, /)\n",
      " |      Specialized __dir__ implementation for types.\n",
      " |  \n",
      " |  __getattribute__(self, name, /)\n",
      " |      Return getattr(self, name).\n",
      " |  \n",
      " |  __init__(self, /, *args, **kwargs)\n",
      " |      Initialize self.  See help(type(self)) for accurate signature.\n",
      " |  \n",
      " |  __instancecheck__(self, instance, /)\n",
      " |      Check if an object is an instance.\n",
      " |  \n",
      " |  __repr__(self, /)\n",
      " |      Return repr(self).\n",
      " |  \n",
      " |  __setattr__(self, name, value, /)\n",
      " |      Implement setattr(self, name, value).\n",
      " |  \n",
      " |  __sizeof__(self, /)\n",
      " |      Return memory consumption of the type object.\n",
      " |  \n",
      " |  __subclasscheck__(self, subclass, /)\n",
      " |      Check if a class is a subclass.\n",
      " |  \n",
      " |  __subclasses__(self, /)\n",
      " |      Return a list of immediate subclasses.\n",
      " |  \n",
      " |  mro(self, /)\n",
      " |      Return a type's method resolution order.\n",
      " |  \n",
      " |  ----------------------------------------------------------------------\n",
      " |  Class methods defined here:\n",
      " |  \n",
      " |  __prepare__(...)\n",
      " |      __prepare__() -> dict\n",
      " |      used to create the namespace for the class statement\n",
      " |  \n",
      " |  ----------------------------------------------------------------------\n",
      " |  Static methods defined here:\n",
      " |  \n",
      " |  __new__(*args, **kwargs)\n",
      " |      Create and return a new object.  See help(type) for accurate signature.\n",
      " |  \n",
      " |  ----------------------------------------------------------------------\n",
      " |  Data descriptors defined here:\n",
      " |  \n",
      " |  __abstractmethods__\n",
      " |  \n",
      " |  __dict__\n",
      " |  \n",
      " |  __text_signature__\n",
      " |  \n",
      " |  ----------------------------------------------------------------------\n",
      " |  Data and other attributes defined here:\n",
      " |  \n",
      " |  __base__ = <class 'object'>\n",
      " |      The base class of the class hierarchy.\n",
      " |      \n",
      " |      When called, it accepts no arguments and returns a new featureless\n",
      " |      instance that has no instance attributes and cannot be given any.\n",
      " |  \n",
      " |  \n",
      " |  __bases__ = (<class 'object'>,)\n",
      " |  \n",
      " |  __basicsize__ = 880\n",
      " |  \n",
      " |  __dictoffset__ = 264\n",
      " |  \n",
      " |  __flags__ = 2148293632\n",
      " |  \n",
      " |  __itemsize__ = 40\n",
      " |  \n",
      " |  __mro__ = (<class 'type'>, <class 'object'>)\n",
      " |  \n",
      " |  __weakrefoffset__ = 368\n",
      "\n"
     ]
    }
   ],
   "source": [
    "help(type)"
   ]
  },
  {
   "cell_type": "code",
   "execution_count": 52,
   "id": "7a7c8391",
   "metadata": {},
   "outputs": [
    {
     "name": "stdout",
     "output_type": "stream",
     "text": [
      "Help on class int in module builtins:\n",
      "\n",
      "class int(object)\n",
      " |  int([x]) -> integer\n",
      " |  int(x, base=10) -> integer\n",
      " |  \n",
      " |  Convert a number or string to an integer, or return 0 if no arguments\n",
      " |  are given.  If x is a number, return x.__int__().  For floating point\n",
      " |  numbers, this truncates towards zero.\n",
      " |  \n",
      " |  If x is not a number or if base is given, then x must be a string,\n",
      " |  bytes, or bytearray instance representing an integer literal in the\n",
      " |  given base.  The literal can be preceded by '+' or '-' and be surrounded\n",
      " |  by whitespace.  The base defaults to 10.  Valid bases are 0 and 2-36.\n",
      " |  Base 0 means to interpret the base from the string as an integer literal.\n",
      " |  >>> int('0b100', base=0)\n",
      " |  4\n",
      " |  \n",
      " |  Built-in subclasses:\n",
      " |      bool\n",
      " |  \n",
      " |  Methods defined here:\n",
      " |  \n",
      " |  __abs__(self, /)\n",
      " |      abs(self)\n",
      " |  \n",
      " |  __add__(self, value, /)\n",
      " |      Return self+value.\n",
      " |  \n",
      " |  __and__(self, value, /)\n",
      " |      Return self&value.\n",
      " |  \n",
      " |  __bool__(self, /)\n",
      " |      True if self else False\n",
      " |  \n",
      " |  __ceil__(...)\n",
      " |      Ceiling of an Integral returns itself.\n",
      " |  \n",
      " |  __divmod__(self, value, /)\n",
      " |      Return divmod(self, value).\n",
      " |  \n",
      " |  __eq__(self, value, /)\n",
      " |      Return self==value.\n",
      " |  \n",
      " |  __float__(self, /)\n",
      " |      float(self)\n",
      " |  \n",
      " |  __floor__(...)\n",
      " |      Flooring an Integral returns itself.\n",
      " |  \n",
      " |  __floordiv__(self, value, /)\n",
      " |      Return self//value.\n",
      " |  \n",
      " |  __format__(self, format_spec, /)\n",
      " |      Default object formatter.\n",
      " |  \n",
      " |  __ge__(self, value, /)\n",
      " |      Return self>=value.\n",
      " |  \n",
      " |  __getattribute__(self, name, /)\n",
      " |      Return getattr(self, name).\n",
      " |  \n",
      " |  __getnewargs__(self, /)\n",
      " |  \n",
      " |  __gt__(self, value, /)\n",
      " |      Return self>value.\n",
      " |  \n",
      " |  __hash__(self, /)\n",
      " |      Return hash(self).\n",
      " |  \n",
      " |  __index__(self, /)\n",
      " |      Return self converted to an integer, if self is suitable for use as an index into a list.\n",
      " |  \n",
      " |  __int__(self, /)\n",
      " |      int(self)\n",
      " |  \n",
      " |  __invert__(self, /)\n",
      " |      ~self\n",
      " |  \n",
      " |  __le__(self, value, /)\n",
      " |      Return self<=value.\n",
      " |  \n",
      " |  __lshift__(self, value, /)\n",
      " |      Return self<<value.\n",
      " |  \n",
      " |  __lt__(self, value, /)\n",
      " |      Return self<value.\n",
      " |  \n",
      " |  __mod__(self, value, /)\n",
      " |      Return self%value.\n",
      " |  \n",
      " |  __mul__(self, value, /)\n",
      " |      Return self*value.\n",
      " |  \n",
      " |  __ne__(self, value, /)\n",
      " |      Return self!=value.\n",
      " |  \n",
      " |  __neg__(self, /)\n",
      " |      -self\n",
      " |  \n",
      " |  __or__(self, value, /)\n",
      " |      Return self|value.\n",
      " |  \n",
      " |  __pos__(self, /)\n",
      " |      +self\n",
      " |  \n",
      " |  __pow__(self, value, mod=None, /)\n",
      " |      Return pow(self, value, mod).\n",
      " |  \n",
      " |  __radd__(self, value, /)\n",
      " |      Return value+self.\n",
      " |  \n",
      " |  __rand__(self, value, /)\n",
      " |      Return value&self.\n",
      " |  \n",
      " |  __rdivmod__(self, value, /)\n",
      " |      Return divmod(value, self).\n",
      " |  \n",
      " |  __repr__(self, /)\n",
      " |      Return repr(self).\n",
      " |  \n",
      " |  __rfloordiv__(self, value, /)\n",
      " |      Return value//self.\n",
      " |  \n",
      " |  __rlshift__(self, value, /)\n",
      " |      Return value<<self.\n",
      " |  \n",
      " |  __rmod__(self, value, /)\n",
      " |      Return value%self.\n",
      " |  \n",
      " |  __rmul__(self, value, /)\n",
      " |      Return value*self.\n",
      " |  \n",
      " |  __ror__(self, value, /)\n",
      " |      Return value|self.\n",
      " |  \n",
      " |  __round__(...)\n",
      " |      Rounding an Integral returns itself.\n",
      " |      Rounding with an ndigits argument also returns an integer.\n",
      " |  \n",
      " |  __rpow__(self, value, mod=None, /)\n",
      " |      Return pow(value, self, mod).\n",
      " |  \n",
      " |  __rrshift__(self, value, /)\n",
      " |      Return value>>self.\n",
      " |  \n",
      " |  __rshift__(self, value, /)\n",
      " |      Return self>>value.\n",
      " |  \n",
      " |  __rsub__(self, value, /)\n",
      " |      Return value-self.\n",
      " |  \n",
      " |  __rtruediv__(self, value, /)\n",
      " |      Return value/self.\n",
      " |  \n",
      " |  __rxor__(self, value, /)\n",
      " |      Return value^self.\n",
      " |  \n",
      " |  __sizeof__(self, /)\n",
      " |      Returns size in memory, in bytes.\n",
      " |  \n",
      " |  __sub__(self, value, /)\n",
      " |      Return self-value.\n",
      " |  \n",
      " |  __truediv__(self, value, /)\n",
      " |      Return self/value.\n",
      " |  \n",
      " |  __trunc__(...)\n",
      " |      Truncating an Integral returns itself.\n",
      " |  \n",
      " |  __xor__(self, value, /)\n",
      " |      Return self^value.\n",
      " |  \n",
      " |  as_integer_ratio(self, /)\n",
      " |      Return integer ratio.\n",
      " |      \n",
      " |      Return a pair of integers, whose ratio is exactly equal to the original int\n",
      " |      and with a positive denominator.\n",
      " |      \n",
      " |      >>> (10).as_integer_ratio()\n",
      " |      (10, 1)\n",
      " |      >>> (-10).as_integer_ratio()\n",
      " |      (-10, 1)\n",
      " |      >>> (0).as_integer_ratio()\n",
      " |      (0, 1)\n",
      " |  \n",
      " |  bit_length(self, /)\n",
      " |      Number of bits necessary to represent self in binary.\n",
      " |      \n",
      " |      >>> bin(37)\n",
      " |      '0b100101'\n",
      " |      >>> (37).bit_length()\n",
      " |      6\n",
      " |  \n",
      " |  conjugate(...)\n",
      " |      Returns self, the complex conjugate of any int.\n",
      " |  \n",
      " |  to_bytes(self, /, length, byteorder, *, signed=False)\n",
      " |      Return an array of bytes representing an integer.\n",
      " |      \n",
      " |      length\n",
      " |        Length of bytes object to use.  An OverflowError is raised if the\n",
      " |        integer is not representable with the given number of bytes.\n",
      " |      byteorder\n",
      " |        The byte order used to represent the integer.  If byteorder is 'big',\n",
      " |        the most significant byte is at the beginning of the byte array.  If\n",
      " |        byteorder is 'little', the most significant byte is at the end of the\n",
      " |        byte array.  To request the native byte order of the host system, use\n",
      " |        `sys.byteorder' as the byte order value.\n",
      " |      signed\n",
      " |        Determines whether two's complement is used to represent the integer.\n",
      " |        If signed is False and a negative integer is given, an OverflowError\n",
      " |        is raised.\n",
      " |  \n",
      " |  ----------------------------------------------------------------------\n",
      " |  Class methods defined here:\n",
      " |  \n",
      " |  from_bytes(bytes, byteorder, *, signed=False) from builtins.type\n",
      " |      Return the integer represented by the given array of bytes.\n",
      " |      \n",
      " |      bytes\n",
      " |        Holds the array of bytes to convert.  The argument must either\n",
      " |        support the buffer protocol or be an iterable object producing bytes.\n",
      " |        Bytes and bytearray are examples of built-in objects that support the\n",
      " |        buffer protocol.\n",
      " |      byteorder\n",
      " |        The byte order used to represent the integer.  If byteorder is 'big',\n",
      " |        the most significant byte is at the beginning of the byte array.  If\n",
      " |        byteorder is 'little', the most significant byte is at the end of the\n",
      " |        byte array.  To request the native byte order of the host system, use\n",
      " |        `sys.byteorder' as the byte order value.\n",
      " |      signed\n",
      " |        Indicates whether two's complement is used to represent the integer.\n",
      " |  \n",
      " |  ----------------------------------------------------------------------\n",
      " |  Static methods defined here:\n",
      " |  \n",
      " |  __new__(*args, **kwargs) from builtins.type\n",
      " |      Create and return a new object.  See help(type) for accurate signature.\n",
      " |  \n",
      " |  ----------------------------------------------------------------------\n",
      " |  Data descriptors defined here:\n",
      " |  \n",
      " |  denominator\n",
      " |      the denominator of a rational number in lowest terms\n",
      " |  \n",
      " |  imag\n",
      " |      the imaginary part of a complex number\n",
      " |  \n",
      " |  numerator\n",
      " |      the numerator of a rational number in lowest terms\n",
      " |  \n",
      " |  real\n",
      " |      the real part of a complex number\n",
      "\n"
     ]
    }
   ],
   "source": [
    "help(int)"
   ]
  },
  {
   "cell_type": "code",
   "execution_count": 53,
   "id": "c2f276d3",
   "metadata": {},
   "outputs": [
    {
     "name": "stdout",
     "output_type": "stream",
     "text": [
      "Help on built-in function min in module builtins:\n",
      "\n",
      "min(...)\n",
      "    min(iterable, *[, default=obj, key=func]) -> value\n",
      "    min(arg1, arg2, *args, *[, key=func]) -> value\n",
      "    \n",
      "    With a single iterable argument, return its smallest item. The\n",
      "    default keyword-only argument specifies an object to return if\n",
      "    the provided iterable is empty.\n",
      "    With two or more arguments, return the smallest argument.\n",
      "\n"
     ]
    }
   ],
   "source": [
    "help(min)"
   ]
  },
  {
   "cell_type": "code",
   "execution_count": 54,
   "id": "9bcf2d55",
   "metadata": {},
   "outputs": [
    {
     "name": "stdout",
     "output_type": "stream",
     "text": [
      "Help on built-in function max in module builtins:\n",
      "\n",
      "max(...)\n",
      "    max(iterable, *[, default=obj, key=func]) -> value\n",
      "    max(arg1, arg2, *args, *[, key=func]) -> value\n",
      "    \n",
      "    With a single iterable argument, return its biggest item. The\n",
      "    default keyword-only argument specifies an object to return if\n",
      "    the provided iterable is empty.\n",
      "    With two or more arguments, return the largest argument.\n",
      "\n"
     ]
    }
   ],
   "source": [
    "help(max)"
   ]
  },
  {
   "cell_type": "code",
   "execution_count": 55,
   "id": "e3b1619e",
   "metadata": {},
   "outputs": [
    {
     "data": {
      "text/plain": [
       "1"
      ]
     },
     "execution_count": 55,
     "metadata": {},
     "output_type": "execute_result"
    }
   ],
   "source": [
    "# compare values\n",
    "min(1,2,3,4,5)"
   ]
  },
  {
   "cell_type": "code",
   "execution_count": 56,
   "id": "dabac21a",
   "metadata": {},
   "outputs": [
    {
     "data": {
      "text/plain": [
       "'a'"
      ]
     },
     "execution_count": 56,
     "metadata": {},
     "output_type": "execute_result"
    }
   ],
   "source": [
    "# compare values\n",
    "min('a', 'b','c')"
   ]
  },
  {
   "cell_type": "code",
   "execution_count": 57,
   "id": "f30b9913",
   "metadata": {},
   "outputs": [
    {
     "ename": "TypeError",
     "evalue": "'<' not supported between instances of 'str' and 'int'",
     "output_type": "error",
     "traceback": [
      "\u001b[0;31m---------------------------------------------------------------------------\u001b[0m",
      "\u001b[0;31mTypeError\u001b[0m                                 Traceback (most recent call last)",
      "Input \u001b[0;32mIn [57]\u001b[0m, in \u001b[0;36m<cell line: 2>\u001b[0;34m()\u001b[0m\n\u001b[1;32m      1\u001b[0m \u001b[38;5;66;03m# compare values\u001b[39;00m\n\u001b[0;32m----> 2\u001b[0m \u001b[38;5;28;43mmin\u001b[39;49m\u001b[43m(\u001b[49m\u001b[38;5;241;43m1\u001b[39;49m\u001b[43m,\u001b[49m\u001b[38;5;241;43m2\u001b[39;49m\u001b[43m,\u001b[49m\u001b[38;5;241;43m3\u001b[39;49m\u001b[43m,\u001b[49m\u001b[38;5;124;43m'\u001b[39;49m\u001b[38;5;124;43ma\u001b[39;49m\u001b[38;5;124;43m'\u001b[39;49m\u001b[43m)\u001b[49m\n",
      "\u001b[0;31mTypeError\u001b[0m: '<' not supported between instances of 'str' and 'int'"
     ]
    }
   ],
   "source": [
    "# compare values\n",
    "min(1,2,3,'a')"
   ]
  },
  {
   "cell_type": "code",
   "execution_count": 58,
   "id": "d198bde6",
   "metadata": {},
   "outputs": [
    {
     "data": {
      "text/plain": [
       "'c'"
      ]
     },
     "execution_count": 58,
     "metadata": {},
     "output_type": "execute_result"
    }
   ],
   "source": [
    "########################################\n",
    "# exercise: use max function\n",
    "max('a', 'b','c')"
   ]
  },
  {
   "cell_type": "code",
   "execution_count": 59,
   "id": "5483d611",
   "metadata": {},
   "outputs": [
    {
     "name": "stdout",
     "output_type": "stream",
     "text": [
      "Help on built-in function len in module builtins:\n",
      "\n",
      "len(obj, /)\n",
      "    Return the number of items in a container.\n",
      "\n"
     ]
    }
   ],
   "source": [
    "help(len)"
   ]
  },
  {
   "cell_type": "code",
   "execution_count": 60,
   "id": "ace85df4",
   "metadata": {},
   "outputs": [
    {
     "ename": "TypeError",
     "evalue": "len() takes exactly one argument (3 given)",
     "output_type": "error",
     "traceback": [
      "\u001b[0;31m---------------------------------------------------------------------------\u001b[0m",
      "\u001b[0;31mTypeError\u001b[0m                                 Traceback (most recent call last)",
      "Input \u001b[0;32mIn [60]\u001b[0m, in \u001b[0;36m<cell line: 3>\u001b[0;34m()\u001b[0m\n\u001b[1;32m      1\u001b[0m \u001b[38;5;66;03m########################################\u001b[39;00m\n\u001b[1;32m      2\u001b[0m \u001b[38;5;66;03m# exercise: use len function\u001b[39;00m\n\u001b[0;32m----> 3\u001b[0m \u001b[38;5;28;43mlen\u001b[39;49m\u001b[43m(\u001b[49m\u001b[38;5;124;43m'\u001b[39;49m\u001b[38;5;124;43ma\u001b[39;49m\u001b[38;5;124;43m'\u001b[39;49m\u001b[43m,\u001b[49m\u001b[43m \u001b[49m\u001b[38;5;124;43m'\u001b[39;49m\u001b[38;5;124;43mb\u001b[39;49m\u001b[38;5;124;43m'\u001b[39;49m\u001b[43m,\u001b[49m\u001b[38;5;124;43m'\u001b[39;49m\u001b[38;5;124;43mc\u001b[39;49m\u001b[38;5;124;43m'\u001b[39;49m\u001b[43m)\u001b[49m\n",
      "\u001b[0;31mTypeError\u001b[0m: len() takes exactly one argument (3 given)"
     ]
    }
   ],
   "source": [
    "########################################\n",
    "# exercise: use len function\n",
    "len('a', 'b','c')"
   ]
  },
  {
   "cell_type": "code",
   "execution_count": 61,
   "id": "b93b14ea",
   "metadata": {},
   "outputs": [
    {
     "data": {
      "text/plain": [
       "1"
      ]
     },
     "execution_count": 61,
     "metadata": {},
     "output_type": "execute_result"
    }
   ],
   "source": [
    "########################################\n",
    "# exercise: use len function\n",
    "len('a')"
   ]
  },
  {
   "cell_type": "code",
   "execution_count": 62,
   "id": "73785fca",
   "metadata": {},
   "outputs": [
    {
     "data": {
      "text/plain": [
       "5"
      ]
     },
     "execution_count": 62,
     "metadata": {},
     "output_type": "execute_result"
    }
   ],
   "source": [
    "########################################\n",
    "# exercise: use len function\n",
    "len(my_name)"
   ]
  },
  {
   "cell_type": "code",
   "execution_count": 63,
   "id": "838dc5a9",
   "metadata": {},
   "outputs": [
    {
     "name": "stdout",
     "output_type": "stream",
     "text": [
      "c\n",
      "tin\n",
      "4\n"
     ]
    }
   ],
   "source": [
    "########################################\n",
    "# exercise: use max and len function\n",
    "easy_string = \"abc\"\n",
    "print(max(easy_string))\n",
    "rich = \"gold\"\n",
    "poor = \"tin\"\n",
    "print(max(rich, poor))\n",
    "print(max(len(rich), len(poor)))"
   ]
  },
  {
   "cell_type": "code",
   "execution_count": 64,
   "id": "a85b0dee",
   "metadata": {},
   "outputs": [
    {
     "ename": "TypeError",
     "evalue": "max expected at least 1 argument, got 0",
     "output_type": "error",
     "traceback": [
      "\u001b[0;31m---------------------------------------------------------------------------\u001b[0m",
      "\u001b[0;31mTypeError\u001b[0m                                 Traceback (most recent call last)",
      "Input \u001b[0;32mIn [64]\u001b[0m, in \u001b[0;36m<cell line: 3>\u001b[0;34m()\u001b[0m\n\u001b[1;32m      1\u001b[0m \u001b[38;5;66;03m########################################\u001b[39;00m\n\u001b[1;32m      2\u001b[0m \u001b[38;5;66;03m# exercise: use max function with no input\u001b[39;00m\n\u001b[0;32m----> 3\u001b[0m \u001b[38;5;28;43mmax\u001b[39;49m\u001b[43m(\u001b[49m\u001b[43m)\u001b[49m\n",
      "\u001b[0;31mTypeError\u001b[0m: max expected at least 1 argument, got 0"
     ]
    }
   ],
   "source": [
    "########################################\n",
    "# exercise: use max function with no input\n",
    "max()"
   ]
  },
  {
   "cell_type": "code",
   "execution_count": 65,
   "id": "79b9b0f8",
   "metadata": {},
   "outputs": [
    {
     "name": "stdout",
     "output_type": "stream",
     "text": [
      "3.1415926 3\n"
     ]
    }
   ],
   "source": [
    "########################################\n",
    "# exercise: use round function\n",
    "pi = 3.1415926\n",
    "print(pi, round(pi))"
   ]
  },
  {
   "cell_type": "code",
   "execution_count": 66,
   "id": "4fddc8c7",
   "metadata": {},
   "outputs": [
    {
     "name": "stdout",
     "output_type": "stream",
     "text": [
      "3.1415926 3.14\n"
     ]
    }
   ],
   "source": [
    "########################################\n",
    "# exercise: use round function\n",
    "pi = 3.1415926\n",
    "print(pi, round(pi, 2))"
   ]
  },
  {
   "cell_type": "code",
   "execution_count": 67,
   "id": "8aa35e89",
   "metadata": {},
   "outputs": [
    {
     "ename": "TypeError",
     "evalue": "round() missing required argument 'number' (pos 1)",
     "output_type": "error",
     "traceback": [
      "\u001b[0;31m---------------------------------------------------------------------------\u001b[0m",
      "\u001b[0;31mTypeError\u001b[0m                                 Traceback (most recent call last)",
      "Input \u001b[0;32mIn [67]\u001b[0m, in \u001b[0;36m<cell line: 3>\u001b[0;34m()\u001b[0m\n\u001b[1;32m      1\u001b[0m \u001b[38;5;66;03m########################################\u001b[39;00m\n\u001b[1;32m      2\u001b[0m \u001b[38;5;66;03m# exercise: use round function with no input\u001b[39;00m\n\u001b[0;32m----> 3\u001b[0m \u001b[38;5;28;43mround\u001b[39;49m\u001b[43m(\u001b[49m\u001b[43m)\u001b[49m\n",
      "\u001b[0;31mTypeError\u001b[0m: round() missing required argument 'number' (pos 1)"
     ]
    }
   ],
   "source": [
    "########################################\n",
    "# exercise: use round function with no input\n",
    "round()"
   ]
  },
  {
   "cell_type": "code",
   "execution_count": null,
   "id": "92027595",
   "metadata": {},
   "outputs": [],
   "source": []
  },
  {
   "cell_type": "code",
   "execution_count": null,
   "id": "1a973625",
   "metadata": {},
   "outputs": [],
   "source": []
  }
 ],
 "metadata": {
  "kernelspec": {
   "display_name": "Python 3 (ipykernel)",
   "language": "python",
   "name": "python3"
  },
  "language_info": {
   "codemirror_mode": {
    "name": "ipython",
    "version": 3
   },
   "file_extension": ".py",
   "mimetype": "text/x-python",
   "name": "python",
   "nbconvert_exporter": "python",
   "pygments_lexer": "ipython3",
   "version": "3.9.12"
  }
 },
 "nbformat": 4,
 "nbformat_minor": 5
}

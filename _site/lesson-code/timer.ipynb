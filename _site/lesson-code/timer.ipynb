{
 "cells": [
  {
   "cell_type": "code",
   "execution_count": 2,
   "id": "0d4ccf39-f2ea-4445-abb5-13a8fd14cd70",
   "metadata": {},
   "outputs": [
    {
     "name": "stdout",
     "output_type": "stream",
     "text": [
      "current time is 2022-03-29 18:19:41.715792\n",
      "waited for 60 seconds\n",
      "iteration 0 current time is 2022-03-29 18:20:41.715905\n",
      "waited for 60 seconds\n",
      "iteration 1 current time is 2022-03-29 18:21:41.713204\n",
      "waited for 60 seconds\n",
      "iteration 2 current time is 2022-03-29 18:22:41.713692\n",
      "waited for 60 seconds\n",
      "iteration 3 current time is 2022-03-29 18:23:41.711411\n",
      "waited for 60 seconds\n",
      "iteration 4 current time is 2022-03-29 18:24:41.710956\n",
      "waited for 60 seconds\n",
      "iteration 5 current time is 2022-03-29 18:25:41.708257\n",
      "waited for 60 seconds\n",
      "iteration 6 current time is 2022-03-29 18:26:41.709303\n",
      "waited for 60 seconds\n",
      "iteration 7 current time is 2022-03-29 18:27:41.706969\n",
      "waited for 60 seconds\n",
      "iteration 8 current time is 2022-03-29 18:28:41.709666\n",
      "waited for 60 seconds\n",
      "iteration 9 current time is 2022-03-29 18:29:41.711438\n",
      "waited for 60 seconds\n",
      "iteration 10 current time is 2022-03-29 18:30:41.716063\n",
      "waited for 60 seconds\n",
      "iteration 11 current time is 2022-03-29 18:31:41.721455\n",
      "waited for 60 seconds\n",
      "iteration 12 current time is 2022-03-29 18:32:41.719895\n",
      "waited for 60 seconds\n",
      "iteration 13 current time is 2022-03-29 18:33:41.725375\n",
      "waited for 60 seconds\n",
      "iteration 14 current time is 2022-03-29 18:34:41.730657\n",
      "waited for 60 seconds\n",
      "iteration 15 current time is 2022-03-29 18:35:41.737055\n",
      "waited for 60 seconds\n",
      "iteration 16 current time is 2022-03-29 18:36:41.793936\n",
      "waited for 60 seconds\n",
      "iteration 17 current time is 2022-03-29 18:37:41.793872\n",
      "waited for 60 seconds\n",
      "iteration 18 current time is 2022-03-29 18:38:41.793161\n",
      "waited for 60 seconds\n",
      "iteration 19 current time is 2022-03-29 18:39:41.792727\n",
      "waited for 60 seconds\n",
      "iteration 20 current time is 2022-03-29 18:40:41.793612\n",
      "waited for 60 seconds\n",
      "iteration 21 current time is 2022-03-29 18:41:41.792330\n",
      "waited for 60 seconds\n",
      "iteration 22 current time is 2022-03-29 18:42:41.791423\n",
      "waited for 60 seconds\n",
      "iteration 23 current time is 2022-03-29 18:43:41.791101\n",
      "waited for 60 seconds\n",
      "iteration 24 current time is 2022-03-29 18:44:41.796843\n",
      "waited for 60 seconds\n",
      "iteration 25 current time is 2022-03-29 18:45:41.795225\n",
      "waited for 60 seconds\n",
      "iteration 26 current time is 2022-03-29 18:46:41.797308\n",
      "waited for 60 seconds\n",
      "iteration 27 current time is 2022-03-29 18:47:41.803195\n",
      "waited for 60 seconds\n",
      "iteration 28 current time is 2022-03-29 18:48:41.811398\n",
      "waited for 60 seconds\n",
      "iteration 29 current time is 2022-03-29 18:49:41.814498\n",
      "total wait time is 1800 seconds\n"
     ]
    }
   ],
   "source": [
    "import time\n",
    "import datetime\n",
    "\n",
    "interval = 1 * 60 # 1 mins\n",
    "wait_time = 30 * 60 # 30 mins\n",
    "print('current time is', datetime.datetime.now())\n",
    "for i in range(int(wait_time/interval)):\n",
    "    time.sleep(interval)\n",
    "    print('waited for {} seconds'.format(interval))\n",
    "    print('iteration', i, 'current time is', datetime.datetime.now())\n",
    "    \n",
    "print('total wait time is {} seconds'.format(wait_time))"
   ]
  },
  {
   "cell_type": "code",
   "execution_count": null,
   "id": "1d0d654e-508f-4254-b0c4-5f95412b1b79",
   "metadata": {},
   "outputs": [],
   "source": []
  }
 ],
 "metadata": {
  "kernelspec": {
   "display_name": "Python 3 (ipykernel)",
   "language": "python",
   "name": "python3"
  },
  "language_info": {
   "codemirror_mode": {
    "name": "ipython",
    "version": 3
   },
   "file_extension": ".py",
   "mimetype": "text/x-python",
   "name": "python",
   "nbconvert_exporter": "python",
   "pygments_lexer": "ipython3",
   "version": "3.9.12"
  }
 },
 "nbformat": 4,
 "nbformat_minor": 5
}
